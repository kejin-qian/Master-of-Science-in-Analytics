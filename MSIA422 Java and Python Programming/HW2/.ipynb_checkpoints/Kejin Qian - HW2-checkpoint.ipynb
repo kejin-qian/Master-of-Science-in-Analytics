{
 "cells": [
  {
   "cell_type": "markdown",
   "metadata": {},
   "source": [
    "## Write a program (2 functions) that works exactly like the sorted() built-in function in python."
   ]
  },
  {
   "cell_type": "code",
   "execution_count": 1,
   "metadata": {
    "collapsed": true
   },
   "outputs": [],
   "source": [
    "import time"
   ]
  },
  {
   "cell_type": "markdown",
   "metadata": {},
   "source": [
    "### my bubble sort -- using the original bubble sort function"
   ]
  },
  {
   "cell_type": "code",
   "execution_count": 2,
   "metadata": {
    "collapsed": true
   },
   "outputs": [],
   "source": [
    "def bubble_sort(iterable, key = None, reverse = False):\n",
    "    \"\"\"\n",
    "    Return a new list containing all items from the iterable sorted by the specified key function using bubble sort.\n",
    "    By default, the function will sort in ascending order. Use reverse = True to sort in descending order\n",
    "    \"\"\"\n",
    "    start = time.time()\n",
    "    nComp = 0\n",
    "    nSwap = 0\n",
    "    #copy the iterable to iterable_list, so we won't make any changes on iterable\n",
    "    iterable_list = list(iterable)\n",
    "    if key is None:\n",
    "        #case1: key = None and reverse = False (default case)\n",
    "        if reverse is False: \n",
    "            #Set the range for number of comparisons (first pass: n, second pass: n-1  and so on)\n",
    "            #every pass we do one less comparison than before since one item's position was found in previous pass\n",
    "            for pass_num in range(len(iterable_list) - 1, 0, -1):\n",
    "                for i in range(pass_num):   \n",
    "                    nComp += 1\n",
    "                    #comparing two consecutive items in iterable_list\n",
    "                    if iterable_list[i] > iterable_list[i + 1]:  \n",
    "                        #if the latter < the former, swap two items\n",
    "                        iterable_list[i], iterable_list[i + 1] = iterable_list[i + 1], iterable_list[i]\n",
    "                        nSwap += 1\n",
    "            #record the running time of sorting iterable under case 1\n",
    "            tMeasure = time.time() - start\n",
    "                \n",
    "        else:\n",
    "            #case2: key = None and reverse = True\n",
    "            for pass_num in range(len(iterable_list) - 1, 0, -1):\n",
    "                for i in range(pass_num):\n",
    "                    nComp += 1\n",
    "                    if iterable_list[i] < iterable_list[i + 1]:\n",
    "                        #comparing two consecutive items, if the former < the latter, swap two items\n",
    "                        iterable_list[i],iterable_list[i + 1] = iterable_list[i + 1] ,iterable_list[i]\n",
    "                        nSwap += 1\n",
    "            tMeasure = time.time() - start\n",
    "    else:\n",
    "        if reverse is False:\n",
    "            #case3: key is not None and reverse = False\n",
    "            for pass_num in range(len(iterable_list) - 1, 0, -1):\n",
    "                for i in range(pass_num):\n",
    "                    nComp += 1\n",
    "                    #since key is not None, we should sort by key(iterable_list[i]) instead of iterable_list[i]\n",
    "                    if key(iterable_list[i]) > key(iterable_list[i + 1]):   \n",
    "                        #comparing two consecutive items, if key(the former) > key(the latter), swap two items\n",
    "                        iterable_list[i], iterable_list[i + 1] = iterable_list[i + 1], iterable_list[i]\n",
    "                        nSwap += 1\n",
    "            tMeasure = time.time() - start\n",
    "        else:\n",
    "            #case4: key is not None and reverse = True\n",
    "            for pass_num in range(len(iterable_list) - 1, 0, -1):\n",
    "                for i in range(pass_num):\n",
    "                    nComp += 1\n",
    "                    if key(iterable_list[i]) < key(iterable_list[i + 1]):  \n",
    "                        #comparing two consecutive items, if key(the former) < key(the latter), swap two items\n",
    "                        iterable_list[i], iterable_list[i + 1] = iterable_list[i + 1], iterable_list[i]\n",
    "                        nSwap += 1\n",
    "            tMeasure = time.time() - start\n",
    "    return (iterable_list, \"Number of Comparison: \"+ str(nComp), \"Number of Swap: \"+ str(nSwap),\n",
    "            \"Timer Measure(in seconds): \" + str(tMeasure))"
   ]
  },
  {
   "cell_type": "markdown",
   "metadata": {},
   "source": [
    "### Test my bubble sort function"
   ]
  },
  {
   "cell_type": "code",
   "execution_count": 3,
   "metadata": {},
   "outputs": [
    {
     "name": "stdout",
     "output_type": "stream",
     "text": [
      "([], 'Number of Comparison: 0', 'Number of Swap: 0', 'Timer Measure(in seconds): 3.0994415283203125e-06')\n",
      "True\n",
      "([-2, 1, 2, 3, 4, 6, 7, 8, 8, 8, 9], 'Number of Comparison: 55', 'Number of Swap: 22', 'Timer Measure(in seconds): 3.719329833984375e-05')\n",
      "True\n",
      "([9, 8, 8, 8, 7, 6, 4, 3, 2, 1, -2], 'Number of Comparison: 55', 'Number of Swap: 30', 'Timer Measure(in seconds): 3.504753112792969e-05')\n",
      "True\n",
      "(['Andrew', 'Joe', 'Sandy', 'Zoe', 'amy'], 'Number of Comparison: 10', 'Number of Swap: 1', 'Timer Measure(in seconds): 1.0013580322265625e-05')\n",
      "True\n",
      "(['Zoe', 'Sandy', 'Joe', 'Andrew', 'amy'], 'Number of Comparison: 10', 'Number of Swap: 5', 'Timer Measure(in seconds): 1.9073486328125e-05')\n",
      "True\n",
      "([('Jane', 12), ('Janet', 12), ('Sandy', 18)], 'Number of Comparison: 3', 'Number of Swap: 0', 'Timer Measure(in seconds): 4.00543212890625e-05')\n",
      "True\n"
     ]
    }
   ],
   "source": [
    "#test 1: list\n",
    "#empty_list\n",
    "I1 = []\n",
    "#list of numbers\n",
    "I2 = [6,2,8,-2,4,8,3,9,1,8,7]\n",
    "#list of strings\n",
    "I3 = ['Andrew', 'Sandy', 'Joe', 'Zoe', 'amy']\n",
    "#list of tuple\n",
    "I4 = [('Jane', 12), ('Janet', 12), ('Sandy', 18)]\n",
    "print(bubble_sort(I1))\n",
    "print(bubble_sort(I1)[0] == sorted(I1))\n",
    "print(bubble_sort(I2))\n",
    "print(bubble_sort(I2)[0] == sorted(I2))\n",
    "print(bubble_sort(I2, reverse = True))\n",
    "print(bubble_sort(I2, reverse = True)[0] == sorted(I2, reverse = True))\n",
    "print(bubble_sort(I3))\n",
    "print(bubble_sort(I3)[0] == sorted(I3))\n",
    "print(bubble_sort(I3, key = str.lower, reverse = True))\n",
    "print(bubble_sort(I3, key = str.lower, reverse = True)[0] == sorted(I3, key = str.lower, reverse = True))\n",
    "print(bubble_sort(I4, key = lambda x: x[1]))\n",
    "print(bubble_sort(I4, key = lambda x: x[1])[0] == sorted(I4,key = lambda x: x[1]))"
   ]
  },
  {
   "cell_type": "code",
   "execution_count": 4,
   "metadata": {},
   "outputs": [
    {
     "name": "stdout",
     "output_type": "stream",
     "text": [
      "([1, 2, 3], 'Number of Comparison: 3', 'Number of Swap: 2', 'Timer Measure(in seconds): 6.9141387939453125e-06')\n",
      "True\n",
      "(['c', 'b', 'a'], 'Number of Comparison: 3', 'Number of Swap: 1', 'Timer Measure(in seconds): 8.106231689453125e-06')\n",
      "True\n",
      "([['Jane', 12], ['Janet', 12], ['Sandy', 18]], 'Number of Comparison: 3', 'Number of Swap: 0', 'Timer Measure(in seconds): 8.106231689453125e-06')\n",
      "True\n"
     ]
    }
   ],
   "source": [
    "#test 2: Tuple\n",
    "t1 = (3, 1, 2)\n",
    "t2 = ('c','a','b')\n",
    "t3 = (['Jane', 12], ['Janet', 12], ['Sandy', 18])\n",
    "print(bubble_sort(t1))\n",
    "print(bubble_sort(t1)[0] == sorted(t1))\n",
    "print(bubble_sort(t2, reverse = True))\n",
    "print(bubble_sort(t2, reverse = True)[0] == sorted(t2, reverse = True))\n",
    "print(bubble_sort(t3, key = lambda x: x[1]))\n",
    "print(bubble_sort(t3, key = lambda x: x[1])[0] == sorted(t3, key = lambda x: x[1]))"
   ]
  },
  {
   "cell_type": "code",
   "execution_count": 5,
   "metadata": {},
   "outputs": [
    {
     "name": "stdout",
     "output_type": "stream",
     "text": [
      "([1, 2, 3, 4, 5, 6, 7, 8], 'Number of Comparison: 28', 'Number of Swap: 0', 'Timer Measure(in seconds): 1.6927719116210938e-05')\n",
      "True\n"
     ]
    }
   ],
   "source": [
    "#test 3: set\n",
    "s = set([1,5,3,7,3,6,5,8,2,7,4])\n",
    "print(bubble_sort(s))\n",
    "print(bubble_sort(s)[0] == sorted(s))"
   ]
  },
  {
   "cell_type": "code",
   "execution_count": 6,
   "metadata": {},
   "outputs": [
    {
     "name": "stdout",
     "output_type": "stream",
     "text": [
      "([('jane', 'A', 10), ('john', 'B', 15), ('dave', 'B', 12)], 'Number of Comparison: 3', 'Number of Swap: 1', 'Timer Measure(in seconds): 9.298324584960938e-06')\n",
      "True\n",
      "([('john', 'B', 15), ('dave', 'B', 12), ('jane', 'A', 10)], 'Number of Comparison: 3', 'Number of Swap: 1', 'Timer Measure(in seconds): 8.821487426757812e-06')\n",
      "True\n"
     ]
    }
   ],
   "source": [
    "#test 4: user-defind objects\n",
    "class Student:\n",
    "        def __init__(self, name, grade, age):\n",
    "                self.name = name\n",
    "                self.grade = grade\n",
    "                self.age = age\n",
    "        def __repr__(self):\n",
    "                return repr((self.name, self.grade, self.age)) # a printable representation\n",
    "        def weighted_grade(self):\n",
    "                return 'CBA'.index(self.grade) / float(self.age)\n",
    "            \n",
    "student_objects = [\n",
    "        Student('john', 'B', 15),\n",
    "        Student('jane', 'A', 10),\n",
    "        Student('dave', 'B', 12),]\n",
    "print(bubble_sort(student_objects, key = lambda x: x.grade))\n",
    "print(bubble_sort(student_objects, key = lambda x: x.grade)[0] == sorted(student_objects, key = lambda x: x.grade))\n",
    "print(bubble_sort(student_objects, key = lambda x: x.age, reverse = True))\n",
    "print(bubble_sort(student_objects, key = lambda x: x.age, reverse = True)[0] == sorted(student_objects, key = lambda x: x.age, reverse = True))"
   ]
  },
  {
   "cell_type": "code",
   "execution_count": 7,
   "metadata": {},
   "outputs": [
    {
     "name": "stdout",
     "output_type": "stream",
     "text": [
      "(['dave', 'john', 'jane'], 'Number of Comparison: 3', 'Number of Swap: 2', 'Timer Measure(in seconds): 9.059906005859375e-06')\n",
      "True\n"
     ]
    }
   ],
   "source": [
    "#test 5: dictionary\n",
    "student_dict = {\n",
    "    'john': 'B',\n",
    "    'jane': 'B',\n",
    "    'dave': 'D'}\n",
    "print(bubble_sort(student_dict, key = lambda name: student_dict[name], reverse = True))\n",
    "print(bubble_sort(student_dict, key = lambda name: student_dict[name], reverse = True)[0] ==\n",
    "     sorted(student_dict, key = lambda name: student_dict[name], reverse = True))\n"
   ]
  },
  {
   "cell_type": "code",
   "execution_count": 8,
   "metadata": {},
   "outputs": [
    {
     "name": "stdout",
     "output_type": "stream",
     "text": [
      "(['a', 'c', 90, 'z'], 'Number of Comparison: 6', 'Number of Swap: 3', 'Timer Measure(in seconds): 2.8848648071289062e-05')\n",
      "True\n"
     ]
    }
   ],
   "source": [
    "#From Instructor test cases\n",
    "test40=[90,'a','z','c']\n",
    "key40=lambda x:sum([ord(item) for item in str(x)])\n",
    "print(bubble_sort(test40, key=key40))\n",
    "print(bubble_sort(test40, key=key40)[0] == sorted(test40, key=key40))"
   ]
  },
  {
   "cell_type": "markdown",
   "metadata": {},
   "source": [
    "### My merge sort"
   ]
  },
  {
   "cell_type": "code",
   "execution_count": 9,
   "metadata": {
    "collapsed": true
   },
   "outputs": [],
   "source": [
    "def merge_sort(iterable, key=None, reverse = False):\n",
    "    \"\"\"\n",
    "    Return a new list containing all items from the iterable sorted by the specified key function using merge sort.\n",
    "    By default, the function will sort in ascending order. Use reverse = True to sort in descending order\n",
    "    \"\"\"\n",
    "    start = time.time()\n",
    "    nComp = 0\n",
    "    #copy the iterable list to a_list, so we won't make any changes on iterable\n",
    "    a_list = list(iterable)\n",
    "    if len(a_list) > 1:\n",
    "        #split a_list into half(roughly)\n",
    "        mid = len(a_list) // 2\n",
    "        #apply recursion to sort left half and right half respectively and store the sorted result\n",
    "        iter_left_half = merge_sort(a_list[:mid], key, reverse)[0]\n",
    "        iter_right_half = merge_sort(a_list[mid:], key, reverse)[0]\n",
    "        \n",
    "        i = 0 #index of iter_left_half\n",
    "        j = 0 #index of iter_right_half\n",
    "        k = 0 #index of a_list (build up the sorted list)\n",
    "        \n",
    "        #If two halves both have uncompared items, then compare them with given indices\n",
    "        while i < len(iter_left_half) and j < len(iter_right_half):\n",
    "            nComp += 1\n",
    "            if key is not None:\n",
    "                #case 1: key is not None and reverse = True\n",
    "                if reverse is True:      \n",
    "                    #since key is not None, we should sort by key(iter_left_half[i]) instead of iter_left_half[i]\n",
    "                    if key(iter_left_half[i]) >= key(iter_right_half[j]):\n",
    "                        #if the item with index i in left half is larger, set a_list[k] equals to that item\n",
    "                        a_list[k] = iter_left_half[i]\n",
    "                        #item with original index i in iter_left_half has been used, move to the next one\n",
    "                        i = i + 1\n",
    "                    else:\n",
    "                        #if item with index j in iter_right_half is larger, then set a_list[k] be that item\n",
    "                        a_list[k] = iter_right_half[j]\n",
    "                        #the pointer in iter_right_half should move to the next one\n",
    "                        j = j + 1\n",
    "                else:\n",
    "                    #case 2: key is not None and reverse = False\n",
    "                    if key(iter_left_half[i]) <=  key(iter_right_half[j]):\n",
    "                    #reverse=False,set a_list[k] be the smaller one in (key(iter_left_half[i]),key(iter_right_half[j]))\n",
    "                        a_list[k] = iter_left_half[i]\n",
    "                        i = i + 1\n",
    "                    else:\n",
    "                        a_list[k] = iter_right_half[j]\n",
    "                        j = j + 1\n",
    "            else:\n",
    "                #case 3: key is None and reverse is True\n",
    "                if reverse is True:      \n",
    "                    if iter_left_half[i] >= iter_right_half[j]:\n",
    "                        a_list[k] = iter_left_half[i]\n",
    "                        i = i + 1\n",
    "                    else:\n",
    "                        a_list[k] = iter_right_half[j]\n",
    "                        j = j + 1\n",
    "                else:\n",
    "                    #case 4: key is None and reverse is False\n",
    "                    if iter_left_half[i] <= iter_right_half[j]:\n",
    "                        a_list[k] = iter_left_half[i]\n",
    "                        i = i + 1\n",
    "                    else:\n",
    "                        a_list[k] = iter_right_half[j]\n",
    "                        j = j + 1\n",
    "            #the k'th position of a_list has been occupied with the right item, move to the next one\n",
    "            k = k + 1\n",
    "        \n",
    "        #copy the remaining elements of iter_left_half to the end of a_list, if there are any\n",
    "        while i < len(iter_left_half):\n",
    "            a_list[k] = iter_left_half[i]\n",
    "            i = i + 1\n",
    "            k = k + 1\n",
    "        #copy the remaining elements of iter_right_half to the end of a_list, if there are any\n",
    "        while j < len(iter_right_half):\n",
    "            a_list[k] = iter_right_half[j]\n",
    "            j = j + 1\n",
    "            k = k + 1\n",
    "    tMeasure = time.time() - start\n",
    "    return (a_list, \"Number of Comparison: \"+ str(nComp), \"Timer Measure(in seconds): {}\".format(tMeasure))"
   ]
  },
  {
   "cell_type": "markdown",
   "metadata": {},
   "source": [
    "### Test my merge sort function"
   ]
  },
  {
   "cell_type": "code",
   "execution_count": 10,
   "metadata": {},
   "outputs": [
    {
     "name": "stdout",
     "output_type": "stream",
     "text": [
      "([], 'Number of Comparison: 0', 'Timer Measure(in seconds): 2.1457672119140625e-06')\n",
      "True\n",
      "([-2, 1, 2, 3, 4, 6, 7, 8, 8, 8, 9], 'Number of Comparison: 8', 'Timer Measure(in seconds): 0.0002009868621826172')\n",
      "True\n",
      "([9, 8, 8, 8, 7, 6, 4, 3, 2, 1, -2], 'Number of Comparison: 10', 'Timer Measure(in seconds): 8.511543273925781e-05')\n",
      "True\n",
      "(['Andrew', 'Joe', 'Sandy', 'Zoe', 'amy'], 'Number of Comparison: 3', 'Timer Measure(in seconds): 3.409385681152344e-05')\n",
      "True\n",
      "(['Zoe', 'Sandy', 'Joe', 'Andrew', 'amy'], 'Number of Comparison: 4', 'Timer Measure(in seconds): 7.200241088867188e-05')\n",
      "True\n",
      "([('Janet', 12), ('Jane', 15), ('Sandy', 18)], 'Number of Comparison: 2', 'Timer Measure(in seconds): 2.7179718017578125e-05')\n",
      "True\n"
     ]
    }
   ],
   "source": [
    "#test 1: list\n",
    "#empty_list\n",
    "I1 = []\n",
    "#list of numbers\n",
    "I2 = [6,2,8,-2,4,8,3,9,1,8,7]\n",
    "#list of strings\n",
    "I3 = ['Andrew', 'Sandy', 'Joe', 'Zoe', 'amy']\n",
    "#list of tuple\n",
    "I4 = [('Jane', 15), ('Janet', 12), ('Sandy', 18)]\n",
    "print(merge_sort(I1))\n",
    "print(merge_sort(I1)[0] == sorted(I1))\n",
    "print(merge_sort(I2))\n",
    "print(merge_sort(I2)[0] == sorted(I2))\n",
    "print(merge_sort(I2, reverse = True))\n",
    "print(merge_sort(I2, reverse = True)[0] == sorted(I2, reverse = True))\n",
    "print(merge_sort(I3))\n",
    "print(merge_sort(I3)[0] == sorted(I3))\n",
    "print(merge_sort(I3, key = str.lower, reverse = True))\n",
    "print(merge_sort(I3, key = str.lower, reverse = True)[0] == sorted(I3, key = str.lower, reverse = True))\n",
    "print(merge_sort(I4, key = lambda x: x[1]))\n",
    "print(merge_sort(I4, key = lambda x: x[1])[0] == sorted(I4,key = lambda x: x[1]))"
   ]
  },
  {
   "cell_type": "code",
   "execution_count": 11,
   "metadata": {},
   "outputs": [
    {
     "name": "stdout",
     "output_type": "stream",
     "text": [
      "([1, 2, 3], 'Number of Comparison: 2', 'Timer Measure(in seconds): 2.7894973754882812e-05')\n",
      "True\n",
      "(['c', 'b', 'a'], 'Number of Comparison: 1', 'Timer Measure(in seconds): 3.409385681152344e-05')\n",
      "True\n",
      "([['Jane', 12], ['Janet', 12], ['Sandy', 18]], 'Number of Comparison: 1', 'Timer Measure(in seconds): 3.719329833984375e-05')\n",
      "True\n",
      "([['Sandy', 18], ['Jane', 12], ['Janet', 12]], 'Number of Comparison: 2', 'Timer Measure(in seconds): 3.981590270996094e-05')\n",
      "True\n"
     ]
    }
   ],
   "source": [
    "#test 2: Tuple\n",
    "t1 = (3, 1, 2)\n",
    "t2 = ('c','a','b')\n",
    "t3 = (['Jane', 12], ['Janet', 12], ['Sandy', 18])\n",
    "print(merge_sort(t1))\n",
    "print(merge_sort(t1)[0] == sorted(t1))\n",
    "print(merge_sort(t2, reverse = True))\n",
    "print(merge_sort(t2, reverse = True)[0] == sorted(t2, reverse = True))\n",
    "print(merge_sort(t3, key = lambda x: x[1]))\n",
    "print(merge_sort(t3, key = lambda x: x[1])[0] == sorted(t3, key = lambda x: x[1]))\n",
    "print(merge_sort(t3, key = lambda x: x[1], reverse = True))\n",
    "print(merge_sort(t3, key = lambda x: x[1], reverse = True)[0] == sorted(t3, key = lambda x: x[1], reverse = True))"
   ]
  },
  {
   "cell_type": "code",
   "execution_count": 12,
   "metadata": {},
   "outputs": [
    {
     "name": "stdout",
     "output_type": "stream",
     "text": [
      "([1, 2, 3, 4, 5, 6, 7, 8], 'Number of Comparison: 4', 'Timer Measure(in seconds): 0.00011491775512695312')\n",
      "True\n"
     ]
    }
   ],
   "source": [
    "#test 3: set\n",
    "s = set([1,5,3,7,3,6,5,8,2,7,4])\n",
    "print(merge_sort(s))\n",
    "print(merge_sort(s)[0] == sorted(s))"
   ]
  },
  {
   "cell_type": "code",
   "execution_count": 13,
   "metadata": {},
   "outputs": [
    {
     "name": "stdout",
     "output_type": "stream",
     "text": [
      "([('jane', 'A', 10), ('john', 'B', 15), ('dave', 'B', 12)], 'Number of Comparison: 2', 'Timer Measure(in seconds): 3.218650817871094e-05')\n",
      "True\n",
      "([('john', 'B', 15), ('dave', 'B', 12), ('jane', 'A', 10)], 'Number of Comparison: 1', 'Timer Measure(in seconds): 3.504753112792969e-05')\n",
      "True\n"
     ]
    }
   ],
   "source": [
    "#test 4: user-defind objects\n",
    "class Student:\n",
    "        def __init__(self, name, grade, age):\n",
    "                self.name = name\n",
    "                self.grade = grade\n",
    "                self.age = age\n",
    "        def __repr__(self):\n",
    "                return repr((self.name, self.grade, self.age)) # a printable representation\n",
    "        def weighted_grade(self):\n",
    "                return 'CBA'.index(self.grade) / float(self.age)\n",
    "            \n",
    "student_objects = [\n",
    "        Student('john', 'B', 15),\n",
    "        Student('jane', 'A', 10),\n",
    "        Student('dave', 'B', 12),]\n",
    "print(merge_sort(student_objects, key = lambda x: x.grade))\n",
    "print(merge_sort(student_objects, key = lambda x: x.grade)[0] == sorted(student_objects, key = lambda x: x.grade))\n",
    "print(merge_sort(student_objects, key = lambda x: x.age, reverse = True))\n",
    "print(merge_sort(student_objects, key = lambda x: x.age, reverse = True)[0] == sorted(student_objects, key = lambda x: x.age, reverse = True))"
   ]
  },
  {
   "cell_type": "code",
   "execution_count": 14,
   "metadata": {},
   "outputs": [
    {
     "name": "stdout",
     "output_type": "stream",
     "text": [
      "(['dave', 'john', 'jane'], 'Number of Comparison: 2', 'Timer Measure(in seconds): 2.7894973754882812e-05')\n",
      "True\n"
     ]
    }
   ],
   "source": [
    "#test 5: dictionary\n",
    "student_dict = {\n",
    "    'john': 'B',\n",
    "    'jane': 'B',\n",
    "    'dave': 'D'}\n",
    "print(merge_sort(student_dict, key = lambda name: student_dict[name], reverse = True))\n",
    "print(merge_sort(student_dict, key = lambda name: student_dict[name], reverse = True)[0] ==\n",
    "     sorted(student_dict, key = lambda name: student_dict[name], reverse = True))\n"
   ]
  },
  {
   "cell_type": "code",
   "execution_count": 15,
   "metadata": {},
   "outputs": [
    {
     "name": "stdout",
     "output_type": "stream",
     "text": [
      "(['a', 'c', 90, 'z'], 'Number of Comparison: 3', 'Timer Measure(in seconds): 0.000553131103515625')\n",
      "True\n"
     ]
    }
   ],
   "source": [
    "#From Instructor test cases\n",
    "test40=[90,'a','z','c']\n",
    "key40=lambda x:sum([ord(item) for item in str(x)])\n",
    "print(merge_sort(test40, key=key40))\n",
    "print(merge_sort(test40, key=key40)[0] == sorted(test40, key=key40))"
   ]
  },
  {
   "cell_type": "markdown",
   "metadata": {},
   "source": [
    "## Compare your functions on a randomly generated data"
   ]
  },
  {
   "cell_type": "code",
   "execution_count": 16,
   "metadata": {},
   "outputs": [],
   "source": [
    "import random, string\n",
    "def random_list_string(N):\n",
    "    \"\"\"\n",
    "    Return a list of N random strings with random lengths\n",
    "    string length in (1,5)\n",
    "    string can have both lower and upper case letters\n",
    "    \"\"\"\n",
    "    random.seed(2018)\n",
    "    output = []\n",
    "    #generate a random integer between 1 and 10 as the number of words in a word string\n",
    "    lower_let = string.ascii_lowercase\n",
    "    upper_let = string.ascii_uppercase\n",
    "    for i in range(N):\n",
    "        s = ''\n",
    "        for j in range(random.randint(1,5)):\n",
    "            upper_lower = random.randint(0,1)\n",
    "            if upper_lower == 0:\n",
    "                s += random.choice(lower_let)\n",
    "            else:\n",
    "                s += random.choice(upper_let)\n",
    "        output.append(s)\n",
    "    return output"
   ]
  },
  {
   "cell_type": "code",
   "execution_count": 34,
   "metadata": {},
   "outputs": [
    {
     "name": "stdout",
     "output_type": "stream",
     "text": [
      "['aUDRh', 'c', 'ochn', 'TpOJs', 'hKKC', 'dea', 'avk', 'CKSh', 'bhR', 'CIrix']\n",
      "(['CIrix', 'CKSh', 'TpOJs', 'aUDRh', 'avk', 'bhR', 'c', 'dea', 'hKKC', 'ochn'], 'Number of Comparison: 45', 'Number of Swap: 30', 'Timer Measure(in seconds): 2.002716064453125e-05')\n",
      "(['CIrix', 'CKSh', 'TpOJs', 'aUDRh', 'avk', 'bhR', 'c', 'dea', 'hKKC', 'ochn'], 'Number of Comparison: 8', 'Timer Measure(in seconds): 7.510185241699219e-05')\n",
      "['CIrix', 'CKSh', 'TpOJs', 'aUDRh', 'avk', 'bhR', 'c', 'dea', 'hKKC', 'ochn']\n"
     ]
    }
   ],
   "source": [
    "#Short data\n",
    "#Key = None and Reverse = False\n",
    "data = random_list_string(10)\n",
    "print(data)\n",
    "result_b = bubble_sort(data)\n",
    "result_m = merge_sort(data)\n",
    "print(result_b)\n",
    "print(result_m)\n",
    "print(sorted(data))"
   ]
  },
  {
   "cell_type": "code",
   "execution_count": 35,
   "metadata": {},
   "outputs": [
    {
     "name": "stdout",
     "output_type": "stream",
     "text": [
      "(['ochn', 'hKKC', 'dea', 'c', 'bhR', 'avk', 'aUDRh', 'TpOJs', 'CKSh', 'CIrix'], 'Number of Comparison: 45', 'Number of Swap: 15', 'Timer Measure(in seconds): 1.7881393432617188e-05')\n",
      "(['ochn', 'hKKC', 'dea', 'c', 'bhR', 'avk', 'aUDRh', 'TpOJs', 'CKSh', 'CIrix'], 'Number of Comparison: 8', 'Timer Measure(in seconds): 7.605552673339844e-05')\n",
      "['ochn', 'hKKC', 'dea', 'c', 'bhR', 'avk', 'aUDRh', 'TpOJs', 'CKSh', 'CIrix']\n"
     ]
    }
   ],
   "source": [
    "#Key = None and Reverse = True\n",
    "result_b_r = bubble_sort(data, reverse = True)\n",
    "result_m_r = merge_sort(data, reverse = True)\n",
    "print(result_b_r)\n",
    "print(result_m_r)\n",
    "print(sorted(data, reverse = True))"
   ]
  },
  {
   "cell_type": "code",
   "execution_count": 36,
   "metadata": {},
   "outputs": [
    {
     "name": "stdout",
     "output_type": "stream",
     "text": [
      "(['aUDRh', 'avk', 'bhR', 'c', 'CIrix', 'CKSh', 'dea', 'hKKC', 'ochn', 'TpOJs'], 'Number of Comparison: 45', 'Number of Swap: 25', 'Timer Measure(in seconds): 3.409385681152344e-05')\n",
      "(['aUDRh', 'avk', 'bhR', 'c', 'CIrix', 'CKSh', 'dea', 'hKKC', 'ochn', 'TpOJs'], 'Number of Comparison: 7', 'Timer Measure(in seconds): 8.392333984375e-05')\n",
      "['aUDRh', 'avk', 'bhR', 'c', 'CIrix', 'CKSh', 'dea', 'hKKC', 'ochn', 'TpOJs']\n"
     ]
    }
   ],
   "source": [
    "#Key != None and Reverse = False\n",
    "result_b_k = bubble_sort(data, key = str.lower)\n",
    "result_m_k = merge_sort(data, key = str.lower)\n",
    "print(result_b_k)\n",
    "print(result_m_k)\n",
    "print(sorted(data, key = str.lower))"
   ]
  },
  {
   "cell_type": "code",
   "execution_count": 37,
   "metadata": {},
   "outputs": [
    {
     "name": "stdout",
     "output_type": "stream",
     "text": [
      "(['TpOJs', 'ochn', 'hKKC', 'dea', 'CKSh', 'CIrix', 'c', 'bhR', 'avk', 'aUDRh'], 'Number of Comparison: 45', 'Number of Swap: 20', 'Timer Measure(in seconds): 4.029273986816406e-05')\n",
      "(['TpOJs', 'ochn', 'hKKC', 'dea', 'CKSh', 'CIrix', 'c', 'bhR', 'avk', 'aUDRh'], 'Number of Comparison: 9', 'Timer Measure(in seconds): 0.00012493133544921875')\n",
      "['TpOJs', 'ochn', 'hKKC', 'dea', 'CKSh', 'CIrix', 'c', 'bhR', 'avk', 'aUDRh']\n"
     ]
    }
   ],
   "source": [
    "#Key != None and Reverse = True\n",
    "result_b_kr = bubble_sort(data, key = str.lower, reverse = True)\n",
    "result_m_kr = merge_sort(data, key = str.lower, reverse = True)\n",
    "print(result_b_kr)\n",
    "print(result_m_kr)\n",
    "print(sorted(data, key = str.lower, reverse = True))"
   ]
  },
  {
   "cell_type": "code",
   "execution_count": 22,
   "metadata": {},
   "outputs": [
    {
     "name": "stdout",
     "output_type": "stream",
     "text": [
      "Bubble Sort: ('Number of Comparison: 499500', 'Number of Swap: 244911', 'Timer Measure(in seconds): 0.16094970703125')\n",
      "Merge Sort: ('Number of Comparison: 999', 'Timer Measure(in seconds): 0.009763717651367188')\n",
      "True\n"
     ]
    }
   ],
   "source": [
    "#Long data\n",
    "#Key = None and Reverse = False\n",
    "data_long = random_list_string(1000)\n",
    "result_bubble = bubble_sort(data_long)\n",
    "result_merge = merge_sort(data_long)\n",
    "print('Bubble Sort: ' + str(result_bubble[1:]))\n",
    "print('Merge Sort: ' + str(result_merge[1:]))\n",
    "print(result_bubble[0] == sorted(data_long) and result_merge[0] == sorted(data_long))"
   ]
  },
  {
   "cell_type": "code",
   "execution_count": 23,
   "metadata": {},
   "outputs": [
    {
     "name": "stdout",
     "output_type": "stream",
     "text": [
      "Bubble Sort: ('Number of Comparison: 499500', 'Number of Swap: 254228', 'Timer Measure(in seconds): 0.17447185516357422')\n",
      "Merge Sort: ('Number of Comparison: 995', 'Timer Measure(in seconds): 0.009845972061157227')\n",
      "True\n"
     ]
    }
   ],
   "source": [
    "#Key = None and Reverse = True\n",
    "result_bubble_r = bubble_sort(data_long, reverse = True)\n",
    "result_merge_r = merge_sort(data_long, reverse = True)\n",
    "print('Bubble Sort: ' + str(result_bubble_r[1:]))\n",
    "print('Merge Sort: ' + str(result_merge_r[1:]))\n",
    "print(result_bubble_r[0] == sorted(data_long, reverse = True) and result_merge_r[0] == sorted(data_long, reverse = True))"
   ]
  },
  {
   "cell_type": "code",
   "execution_count": 24,
   "metadata": {},
   "outputs": [
    {
     "name": "stdout",
     "output_type": "stream",
     "text": [
      "Bubble Sort: ('Number of Comparison: 499500', 'Number of Swap: 243407', 'Timer Measure(in seconds): 0.31841111183166504')\n",
      "Merge Sort: ('Number of Comparison: 999', 'Timer Measure(in seconds): 0.012351036071777344')\n",
      "True\n"
     ]
    }
   ],
   "source": [
    "#Key not None and Reverse = False\n",
    "result_bubble_k = bubble_sort(data_long, key = str.lower)\n",
    "result_merge_k = merge_sort(data_long, key = str.lower)\n",
    "print('Bubble Sort: ' + str(result_bubble_k[1:]))\n",
    "print('Merge Sort: ' + str(result_merge_k[1:]))\n",
    "print(result_bubble_k[0] == sorted(data_long,key = str.lower) and result_merge_k[0] == sorted(data_long,key = str.lower))"
   ]
  },
  {
   "cell_type": "code",
   "execution_count": 25,
   "metadata": {},
   "outputs": [
    {
     "name": "stdout",
     "output_type": "stream",
     "text": [
      "Bubble Sort: ('Number of Comparison: 499500', 'Number of Swap: 255371', 'Timer Measure(in seconds): 0.32675695419311523')\n",
      "Merge Sort: ('Number of Comparison: 994', 'Timer Measure(in seconds): 0.012263059616088867')\n",
      "True\n"
     ]
    }
   ],
   "source": [
    "#Key not None and Reverse = True\n",
    "result_bubble_kr = bubble_sort(data_long, key = str.lower, reverse = True)\n",
    "result_merge_kr = merge_sort(data_long, key = str.lower, reverse = True)\n",
    "print('Bubble Sort: ' + str(result_bubble_kr[1:]))\n",
    "print('Merge Sort: ' + str(result_merge_kr[1:]))\n",
    "print(result_bubble_kr[0] == sorted(data_long,key = str.lower, reverse = True) and result_merge_kr[0] == sorted(data_long,key = str.lower, reverse = True))"
   ]
  },
  {
   "cell_type": "code",
   "execution_count": 26,
   "metadata": {
    "collapsed": true
   },
   "outputs": [],
   "source": [
    "import pandas as pd"
   ]
  },
  {
   "cell_type": "markdown",
   "metadata": {},
   "source": [
    "### Compare Performance of my bubble_sort and merge_sort on short and long lists \n",
    "#### 1. Running Time\n",
    "#### 2. Number of Comparisons"
   ]
  },
  {
   "cell_type": "code",
   "execution_count": 38,
   "metadata": {},
   "outputs": [
    {
     "data": {
      "text/html": [
       "<div>\n",
       "<style scoped>\n",
       "    .dataframe tbody tr th:only-of-type {\n",
       "        vertical-align: middle;\n",
       "    }\n",
       "\n",
       "    .dataframe tbody tr th {\n",
       "        vertical-align: top;\n",
       "    }\n",
       "\n",
       "    .dataframe thead th {\n",
       "        text-align: right;\n",
       "    }\n",
       "</style>\n",
       "<table border=\"1\" class=\"dataframe\">\n",
       "  <thead>\n",
       "    <tr style=\"text-align: right;\">\n",
       "      <th></th>\n",
       "      <th>Key=None and Reverse=F</th>\n",
       "      <th>Key=None and Reverse=T</th>\n",
       "      <th>Key != None and Reverse=F</th>\n",
       "      <th>Key != None and Reverse=T</th>\n",
       "    </tr>\n",
       "  </thead>\n",
       "  <tbody>\n",
       "    <tr>\n",
       "      <th>Bubble Sort</th>\n",
       "      <td>0.000020</td>\n",
       "      <td>0.000018</td>\n",
       "      <td>0.000034</td>\n",
       "      <td>0.000040</td>\n",
       "    </tr>\n",
       "    <tr>\n",
       "      <th>Merge_Sort</th>\n",
       "      <td>0.000075</td>\n",
       "      <td>0.000076</td>\n",
       "      <td>0.000084</td>\n",
       "      <td>0.000125</td>\n",
       "    </tr>\n",
       "  </tbody>\n",
       "</table>\n",
       "</div>"
      ],
      "text/plain": [
       "             Key=None and Reverse=F  Key=None and Reverse=T  \\\n",
       "Bubble Sort                0.000020                0.000018   \n",
       "Merge_Sort                 0.000075                0.000076   \n",
       "\n",
       "             Key != None and Reverse=F  Key != None and Reverse=T  \n",
       "Bubble Sort                   0.000034                   0.000040  \n",
       "Merge_Sort                    0.000084                   0.000125  "
      ]
     },
     "execution_count": 38,
     "metadata": {},
     "output_type": "execute_result"
    }
   ],
   "source": [
    "#Summary table for bubble sort's and merge sort's running time performance on short list (list size = 10)\n",
    "short = {'Bubble Sort': pd.Series([2.002716064453125e-05, 1.7881393432617188e-05, 3.409385681152344e-05, 4.029273986816406e-05],\n",
    "                                  index = ['Key=None and Reverse=F', 'Key=None and Reverse=T', 'Key != None and Reverse=F', 'Key != None and Reverse=T']),\n",
    "         'Merge_Sort': pd.Series([7.510185241699219e-05, 7.605552673339844e-05, 8.392333984375e-05, 0.00012493133544921875],\n",
    "                                index = ['Key=None and Reverse=F', 'Key=None and Reverse=T', 'Key != None and Reverse=F', 'Key != None and Reverse=T'])}\n",
    "short = pd.DataFrame(short).transpose()\n",
    "short"
   ]
  },
  {
   "cell_type": "code",
   "execution_count": 28,
   "metadata": {},
   "outputs": [
    {
     "data": {
      "text/html": [
       "<div>\n",
       "<style scoped>\n",
       "    .dataframe tbody tr th:only-of-type {\n",
       "        vertical-align: middle;\n",
       "    }\n",
       "\n",
       "    .dataframe tbody tr th {\n",
       "        vertical-align: top;\n",
       "    }\n",
       "\n",
       "    .dataframe thead th {\n",
       "        text-align: right;\n",
       "    }\n",
       "</style>\n",
       "<table border=\"1\" class=\"dataframe\">\n",
       "  <thead>\n",
       "    <tr style=\"text-align: right;\">\n",
       "      <th></th>\n",
       "      <th>Key=None and Reverse=F</th>\n",
       "      <th>Key=None and Reverse=T</th>\n",
       "      <th>Key != None and Reverse=F</th>\n",
       "      <th>Key != None and Reverse=T</th>\n",
       "    </tr>\n",
       "  </thead>\n",
       "  <tbody>\n",
       "    <tr>\n",
       "      <th>Bubble Sort</th>\n",
       "      <td>45</td>\n",
       "      <td>45</td>\n",
       "      <td>45</td>\n",
       "      <td>45</td>\n",
       "    </tr>\n",
       "    <tr>\n",
       "      <th>Merge_Sort</th>\n",
       "      <td>8</td>\n",
       "      <td>8</td>\n",
       "      <td>7</td>\n",
       "      <td>9</td>\n",
       "    </tr>\n",
       "  </tbody>\n",
       "</table>\n",
       "</div>"
      ],
      "text/plain": [
       "             Key=None and Reverse=F  Key=None and Reverse=T  \\\n",
       "Bubble Sort                      45                      45   \n",
       "Merge_Sort                        8                       8   \n",
       "\n",
       "             Key != None and Reverse=F  Key != None and Reverse=T  \n",
       "Bubble Sort                         45                         45  \n",
       "Merge_Sort                           7                          9  "
      ]
     },
     "execution_count": 28,
     "metadata": {},
     "output_type": "execute_result"
    }
   ],
   "source": [
    "#Summary table for bubble sort's and merge sort's performance (number of comparisons) on short list (list size = 10)\n",
    "short1 = {'Bubble Sort': pd.Series([45, 45, 45, 45],\n",
    "                                  index = ['Key=None and Reverse=F', 'Key=None and Reverse=T', 'Key != None and Reverse=F', 'Key != None and Reverse=T']),\n",
    "         'Merge_Sort': pd.Series([8, 8, 7, 9],\n",
    "                                index = ['Key=None and Reverse=F', 'Key=None and Reverse=T', 'Key != None and Reverse=F', 'Key != None and Reverse=T'])}\n",
    "short1 = pd.DataFrame(short1).transpose()\n",
    "short1"
   ]
  },
  {
   "cell_type": "code",
   "execution_count": 39,
   "metadata": {},
   "outputs": [
    {
     "data": {
      "text/html": [
       "<div>\n",
       "<style scoped>\n",
       "    .dataframe tbody tr th:only-of-type {\n",
       "        vertical-align: middle;\n",
       "    }\n",
       "\n",
       "    .dataframe tbody tr th {\n",
       "        vertical-align: top;\n",
       "    }\n",
       "\n",
       "    .dataframe thead th {\n",
       "        text-align: right;\n",
       "    }\n",
       "</style>\n",
       "<table border=\"1\" class=\"dataframe\">\n",
       "  <thead>\n",
       "    <tr style=\"text-align: right;\">\n",
       "      <th></th>\n",
       "      <th>Key=None and Reverse=F</th>\n",
       "      <th>Key=None and Reverse=T</th>\n",
       "      <th>Key != None and Reverse=F</th>\n",
       "      <th>Key != None and Reverse=T</th>\n",
       "    </tr>\n",
       "  </thead>\n",
       "  <tbody>\n",
       "    <tr>\n",
       "      <th>Bubble Sort</th>\n",
       "      <td>0.160950</td>\n",
       "      <td>0.174472</td>\n",
       "      <td>0.318411</td>\n",
       "      <td>0.326757</td>\n",
       "    </tr>\n",
       "    <tr>\n",
       "      <th>Merge_Sort</th>\n",
       "      <td>0.009764</td>\n",
       "      <td>0.009846</td>\n",
       "      <td>0.012351</td>\n",
       "      <td>0.012263</td>\n",
       "    </tr>\n",
       "  </tbody>\n",
       "</table>\n",
       "</div>"
      ],
      "text/plain": [
       "             Key=None and Reverse=F  Key=None and Reverse=T  \\\n",
       "Bubble Sort                0.160950                0.174472   \n",
       "Merge_Sort                 0.009764                0.009846   \n",
       "\n",
       "             Key != None and Reverse=F  Key != None and Reverse=T  \n",
       "Bubble Sort                   0.318411                   0.326757  \n",
       "Merge_Sort                    0.012351                   0.012263  "
      ]
     },
     "execution_count": 39,
     "metadata": {},
     "output_type": "execute_result"
    }
   ],
   "source": [
    "#Summary table for bubble sort's and merge sort's running time performance on long list (list size = 1000)\n",
    "long = {'Bubble Sort': pd.Series([0.16094970703125, 0.17447185516357422, 0.31841111183166504, 0.32675695419311523],\n",
    "                                  index = ['Key=None and Reverse=F', 'Key=None and Reverse=T', 'Key != None and Reverse=F', 'Key != None and Reverse=T']),\n",
    "         'Merge_Sort': pd.Series([0.009763717651367188, 0.009845972061157227, 0.012351036071777344, 0.012263059616088867],\n",
    "                                index = ['Key=None and Reverse=F', 'Key=None and Reverse=T', 'Key != None and Reverse=F', 'Key != None and Reverse=T'])}\n",
    "long = pd.DataFrame(long).transpose()\n",
    "long"
   ]
  },
  {
   "cell_type": "code",
   "execution_count": 40,
   "metadata": {},
   "outputs": [
    {
     "data": {
      "text/html": [
       "<div>\n",
       "<style scoped>\n",
       "    .dataframe tbody tr th:only-of-type {\n",
       "        vertical-align: middle;\n",
       "    }\n",
       "\n",
       "    .dataframe tbody tr th {\n",
       "        vertical-align: top;\n",
       "    }\n",
       "\n",
       "    .dataframe thead th {\n",
       "        text-align: right;\n",
       "    }\n",
       "</style>\n",
       "<table border=\"1\" class=\"dataframe\">\n",
       "  <thead>\n",
       "    <tr style=\"text-align: right;\">\n",
       "      <th></th>\n",
       "      <th>Key=None and Reverse=F</th>\n",
       "      <th>Key=None and Reverse=T</th>\n",
       "      <th>Key != None and Reverse=F</th>\n",
       "      <th>Key != None and Reverse=T</th>\n",
       "    </tr>\n",
       "  </thead>\n",
       "  <tbody>\n",
       "    <tr>\n",
       "      <th>Bubble Sort</th>\n",
       "      <td>499500</td>\n",
       "      <td>499500</td>\n",
       "      <td>499500</td>\n",
       "      <td>499500</td>\n",
       "    </tr>\n",
       "    <tr>\n",
       "      <th>Merge_Sort</th>\n",
       "      <td>999</td>\n",
       "      <td>995</td>\n",
       "      <td>999</td>\n",
       "      <td>994</td>\n",
       "    </tr>\n",
       "  </tbody>\n",
       "</table>\n",
       "</div>"
      ],
      "text/plain": [
       "             Key=None and Reverse=F  Key=None and Reverse=T  \\\n",
       "Bubble Sort                  499500                  499500   \n",
       "Merge_Sort                      999                     995   \n",
       "\n",
       "             Key != None and Reverse=F  Key != None and Reverse=T  \n",
       "Bubble Sort                     499500                     499500  \n",
       "Merge_Sort                         999                        994  "
      ]
     },
     "execution_count": 40,
     "metadata": {},
     "output_type": "execute_result"
    }
   ],
   "source": [
    "#Summary table for bubble sort's and merge sort's performance (number of comparisons) on long list (list size = 1000)\n",
    "long1 = {'Bubble Sort': pd.Series([499500, 499500, 499500, 499500],\n",
    "                                  index = ['Key=None and Reverse=F', 'Key=None and Reverse=T', 'Key != None and Reverse=F', 'Key != None and Reverse=T']),\n",
    "         'Merge_Sort': pd.Series([999, 995, 999, 994],\n",
    "                                index = ['Key=None and Reverse=F', 'Key=None and Reverse=T', 'Key != None and Reverse=F', 'Key != None and Reverse=T'])}\n",
    "long1 = pd.DataFrame(long1).transpose()\n",
    "long1"
   ]
  },
  {
   "cell_type": "markdown",
   "metadata": {},
   "source": [
    "From the previous summary tables, we can see the following two findings:\n",
    "#1. When the dataset size is small (in my example, list size = 10)，the running time of bubble_sort function is shorter than the running time of merge_sort in all four cases. But when the dataset size is large (list size = 1000), merge_sort performed much faster compared to bubble sort in all four cases.\n",
    "#2. If the length of dataset is n, then the number of comparisons in bubble_sort algorithm will be (n-1) + (n-2) + ....+ 2 + 1, which is fixed no matter what the dataset looks like. However, the number of comparisons in merge_sort algorithm will depend on how the dataset is like. So it will change in different cases. For both long and short datasets in my examples, merge_sort gave smaller number of comparisons compared to bubble_sort."
   ]
  },
  {
   "cell_type": "markdown",
   "metadata": {},
   "source": [
    "## 7. Compare your functions to the built-in sorted() function (time wise)\n",
    "## 8. Present your findings thru plots and summary tables"
   ]
  },
  {
   "cell_type": "code",
   "execution_count": 41,
   "metadata": {},
   "outputs": [],
   "source": [
    "import timeit\n",
    "#generate a list of 17 number from 0 to 800 at 50 interval to be the lists' sizes\n",
    "size = []\n",
    "for i in range(0,17):\n",
    "    size.append(50 * i)\n",
    "data_set = [random_list_string(num) for num in size]"
   ]
  },
  {
   "cell_type": "markdown",
   "metadata": {},
   "source": [
    "### Case1 : key = None, reverse = False"
   ]
  },
  {
   "cell_type": "code",
   "execution_count": 80,
   "metadata": {},
   "outputs": [
    {
     "name": "stdout",
     "output_type": "stream",
     "text": [
      "[2.86102294921875e-06, 0.00032711029052734375, 0.001255035400390625, 0.0030329227447509766, 0.006455898284912109, 0.009196996688842773, 0.01724100112915039, 0.01834392547607422, 0.0377199649810791, 0.032515764236450195, 0.03512907028198242, 0.04149818420410156, 0.05097031593322754, 0.059921979904174805, 0.06795787811279297, 0.07781195640563965, 0.0907430648803711]\n",
      "[9.5367431640625e-07, 0.00040602684020996094, 0.0009829998016357422, 0.0015048980712890625, 0.0017948150634765625, 0.00232696533203125, 0.00410771369934082, 0.0035529136657714844, 0.006120920181274414, 0.004377841949462891, 0.0046689510345458984, 0.006379127502441406, 0.0069789886474609375, 0.006391048431396484, 0.006793975830078125, 0.007339954376220703, 0.008858919143676758]\n",
      "[2.4980399757623672e-06, 9.051058441400528e-06, 2.1129846572875977e-05, 3.3321091905236244e-05, 4.434981383383274e-05, 5.662604235112667e-05, 7.009413093328476e-05, 8.856388740241528e-05, 0.00012055994011461735, 0.00010962900705635548, 0.00011831591837108135, 0.000133096007630229, 0.0001517930068075657, 0.00016154395416378975, 0.000172843923792243, 0.00018800003454089165, 0.00020294496789574623]\n"
     ]
    }
   ],
   "source": [
    "#Generate running time information about three algorithms on lists with different sizes\n",
    "bubble_time = []\n",
    "merge_time = []\n",
    "builtin_time = []\n",
    "for l in data_set:\n",
    "    bubble_time.append(float(bubble_sort(l)[-1].split()[-1]))\n",
    "    merge_time.append(float(merge_sort(l)[-1].split()[-1]))\n",
    "    builtin_time.append(timeit.timeit(lambda:sorted(l),number=1))\n",
    "print(bubble_time)\n",
    "print(merge_time)\n",
    "print(builtin_time)"
   ]
  },
  {
   "cell_type": "code",
   "execution_count": 81,
   "metadata": {},
   "outputs": [
    {
     "data": {
      "image/png": "[encoded data removed]",
      "text/plain": [
       "<matplotlib.figure.Figure at 0x110057e10>"
      ]
     },
     "metadata": {},
     "output_type": "display_data"
    }
   ],
   "source": [
    "#Using plot to show running time differences among three algorithms on lists with 17 different sizes from 0 to 800\n",
    "import matplotlib.pyplot as plt\n",
    "plt.plot(size, bubble_time, 'r', marker = 'o') \n",
    "plt.plot(size, merge_time, 'b', marker = 'o') \n",
    "plt.plot(size, builtin_time, 'g', marker = 'o')\n",
    "plt.legend(['Bubble Sort','Merge Sort', 'Builtin Sorted'])\n",
    "plt.title('Performance of Different Sort Functions with Different List Sizes (key = None, reverse = False)')\n",
    "plt.xlabel('List Size')\n",
    "plt.ylabel('Running time (sec)')\n",
    "plt.show()"
   ]
  },
  {
   "cell_type": "code",
   "execution_count": 82,
   "metadata": {},
   "outputs": [
    {
     "data": {
      "text/html": [
       "<div>\n",
       "<style scoped>\n",
       "    .dataframe tbody tr th:only-of-type {\n",
       "        vertical-align: middle;\n",
       "    }\n",
       "\n",
       "    .dataframe tbody tr th {\n",
       "        vertical-align: top;\n",
       "    }\n",
       "\n",
       "    .dataframe thead th {\n",
       "        text-align: right;\n",
       "    }\n",
       "</style>\n",
       "<table border=\"1\" class=\"dataframe\">\n",
       "  <thead>\n",
       "    <tr style=\"text-align: right;\">\n",
       "      <th></th>\n",
       "      <th>size0</th>\n",
       "      <th>size50</th>\n",
       "      <th>size100</th>\n",
       "      <th>size150</th>\n",
       "      <th>size200</th>\n",
       "      <th>size250</th>\n",
       "      <th>size300</th>\n",
       "      <th>size350</th>\n",
       "      <th>size400</th>\n",
       "      <th>size450</th>\n",
       "      <th>size500</th>\n",
       "      <th>size550</th>\n",
       "      <th>size600</th>\n",
       "      <th>size650</th>\n",
       "      <th>size700</th>\n",
       "      <th>size750</th>\n",
       "      <th>size800</th>\n",
       "      <th>Complexity</th>\n",
       "    </tr>\n",
       "  </thead>\n",
       "  <tbody>\n",
       "    <tr>\n",
       "      <th>Bubble Sort</th>\n",
       "      <td>2.861023e-06</td>\n",
       "      <td>0.000327</td>\n",
       "      <td>0.001255</td>\n",
       "      <td>0.003033</td>\n",
       "      <td>0.006456</td>\n",
       "      <td>0.009197</td>\n",
       "      <td>0.017241</td>\n",
       "      <td>0.018344</td>\n",
       "      <td>0.037720</td>\n",
       "      <td>0.032516</td>\n",
       "      <td>0.035129</td>\n",
       "      <td>0.041498</td>\n",
       "      <td>0.050970</td>\n",
       "      <td>0.059922</td>\n",
       "      <td>0.067958</td>\n",
       "      <td>0.077812</td>\n",
       "      <td>0.090743</td>\n",
       "      <td>O(n^2)</td>\n",
       "    </tr>\n",
       "    <tr>\n",
       "      <th>Merge Sort</th>\n",
       "      <td>9.536743e-07</td>\n",
       "      <td>0.000406</td>\n",
       "      <td>0.000983</td>\n",
       "      <td>0.001505</td>\n",
       "      <td>0.001795</td>\n",
       "      <td>0.002327</td>\n",
       "      <td>0.004108</td>\n",
       "      <td>0.003553</td>\n",
       "      <td>0.006121</td>\n",
       "      <td>0.004378</td>\n",
       "      <td>0.004669</td>\n",
       "      <td>0.006379</td>\n",
       "      <td>0.006979</td>\n",
       "      <td>0.006391</td>\n",
       "      <td>0.006794</td>\n",
       "      <td>0.007340</td>\n",
       "      <td>0.008859</td>\n",
       "      <td>O(nlog(n))</td>\n",
       "    </tr>\n",
       "    <tr>\n",
       "      <th>Sorted</th>\n",
       "      <td>2.498040e-06</td>\n",
       "      <td>0.000009</td>\n",
       "      <td>0.000021</td>\n",
       "      <td>0.000033</td>\n",
       "      <td>0.000044</td>\n",
       "      <td>0.000057</td>\n",
       "      <td>0.000070</td>\n",
       "      <td>0.000089</td>\n",
       "      <td>0.000121</td>\n",
       "      <td>0.000110</td>\n",
       "      <td>0.000118</td>\n",
       "      <td>0.000133</td>\n",
       "      <td>0.000152</td>\n",
       "      <td>0.000162</td>\n",
       "      <td>0.000173</td>\n",
       "      <td>0.000188</td>\n",
       "      <td>0.000203</td>\n",
       "      <td>O(nlog(n))</td>\n",
       "    </tr>\n",
       "  </tbody>\n",
       "</table>\n",
       "</div>"
      ],
      "text/plain": [
       "                    size0    size50   size100   size150   size200   size250  \\\n",
       "Bubble Sort  2.861023e-06  0.000327  0.001255  0.003033  0.006456  0.009197   \n",
       "Merge Sort   9.536743e-07  0.000406  0.000983  0.001505  0.001795  0.002327   \n",
       "Sorted       2.498040e-06  0.000009  0.000021  0.000033  0.000044  0.000057   \n",
       "\n",
       "              size300   size350   size400   size450   size500   size550  \\\n",
       "Bubble Sort  0.017241  0.018344  0.037720  0.032516  0.035129  0.041498   \n",
       "Merge Sort   0.004108  0.003553  0.006121  0.004378  0.004669  0.006379   \n",
       "Sorted       0.000070  0.000089  0.000121  0.000110  0.000118  0.000133   \n",
       "\n",
       "              size600   size650   size700   size750   size800  Complexity  \n",
       "Bubble Sort  0.050970  0.059922  0.067958  0.077812  0.090743      O(n^2)  \n",
       "Merge Sort   0.006979  0.006391  0.006794  0.007340  0.008859  O(nlog(n))  \n",
       "Sorted       0.000152  0.000162  0.000173  0.000188  0.000203  O(nlog(n))  "
      ]
     },
     "execution_count": 82,
     "metadata": {},
     "output_type": "execute_result"
    }
   ],
   "source": [
    "#Using summary table to show 17 running times on lists with sizes 0, 50, 100,150, 200, ..., 750, 800\n",
    "case1 = {\n",
    "     'Merge Sort': pd.Series(merge_time, index = ['size' + str(item) for item in size]),\n",
    "    'Bubble Sort': pd.Series(bubble_time, index = ['size' + str(item) for item in size]), \n",
    "     'Sorted': pd.Series(builtin_time, index = ['size' + str(item) for item in size])}\n",
    "Case1 = pd.DataFrame(case1).transpose()\n",
    "Case1['Complexity'] = pd.Series(['O(n^2)', 'O(nlog(n))', 'O(nlog(n))'], index = ['Bubble Sort', 'Merge Sort', 'Sorted'])\n",
    "Case1"
   ]
  },
  {
   "cell_type": "markdown",
   "metadata": {},
   "source": [
    "### Case2 : key != None, reverse = False"
   ]
  },
  {
   "cell_type": "code",
   "execution_count": 83,
   "metadata": {},
   "outputs": [
    {
     "name": "stdout",
     "output_type": "stream",
     "text": [
      "[3.0994415283203125e-06, 0.0008530616760253906, 0.002894163131713867, 0.0065920352935791016, 0.012897968292236328, 0.018561124801635742, 0.030279874801635742, 0.05953812599182129, 0.046190738677978516, 0.05850982666015625, 0.07669997215270996, 0.08910894393920898, 0.10145211219787598, 0.13156914710998535, 0.15044307708740234, 0.1694169044494629, 0.21515679359436035]\n",
      "[9.5367431640625e-07, 0.0004818439483642578, 0.0011069774627685547, 0.002691984176635742, 0.0022399425506591797, 0.0027756690979003906, 0.008482933044433594, 0.004210233688354492, 0.004540920257568359, 0.0051000118255615234, 0.0057260990142822266, 0.006400108337402344, 0.007280826568603516, 0.009139060974121094, 0.008414983749389648, 0.009513139724731445, 0.011853933334350586]\n",
      "[3.99397686123848e-06, 2.2636959329247475e-05, 5.2560120820999146e-05, 6.569782271981239e-05, 8.773989975452423e-05, 0.0001450539566576481, 0.00018746010027825832, 0.0001819208264350891, 0.00015486986376345158, 0.00017424114048480988, 0.0002245290670543909, 0.00020956993103027344, 0.00022989092394709587, 0.0002645340282469988, 0.0002796368207782507, 0.00029939785599708557, 0.0003683448303490877]\n"
     ]
    }
   ],
   "source": [
    "#Generate running time information about three algorithms on lists with different sizes from 0 to 800\n",
    "bubble_time_key = []\n",
    "merge_time_key = []\n",
    "builtin_time_key = []\n",
    "for l in data_set:\n",
    "    bubble_time_key.append(float(bubble_sort(l, key = str.lower)[-1].split()[-1]))\n",
    "    merge_time_key.append(float(merge_sort(l, key = str.lower)[-1].split()[-1]))\n",
    "    builtin_time_key.append(timeit.timeit(lambda:sorted(l, key= str.lower),number=1))\n",
    "print(bubble_time_key)\n",
    "print(merge_time_key)\n",
    "print(builtin_time_key)"
   ]
  },
  {
   "cell_type": "code",
   "execution_count": 84,
   "metadata": {},
   "outputs": [
    {
     "data": {
      "image/png": "[encoded data removed]",
      "text/plain": [
       "<matplotlib.figure.Figure at 0x11017fa58>"
      ]
     },
     "metadata": {},
     "output_type": "display_data"
    }
   ],
   "source": [
    "#Using plot to show running time differences among three algorithms on lists with 17 different sizes from 0 to 800\n",
    "plt.plot(size, bubble_time_key, 'r', marker = 'o') \n",
    "plt.plot(size, merge_time_key, 'b', marker = 'o') \n",
    "plt.plot(size, builtin_time_key, 'g', marker = 'o')\n",
    "plt.legend(['Bubble Sort','Merge Sort', 'Builtin Sorted'])\n",
    "plt.title('Performance of Different Sort Functions with Different List Sizes (key = str.lower, reverse = False)')\n",
    "plt.xlabel('List Size')\n",
    "plt.ylabel('Running time (sec)')\n",
    "plt.show()"
   ]
  },
  {
   "cell_type": "code",
   "execution_count": 85,
   "metadata": {},
   "outputs": [
    {
     "data": {
      "text/html": [
       "<div>\n",
       "<style scoped>\n",
       "    .dataframe tbody tr th:only-of-type {\n",
       "        vertical-align: middle;\n",
       "    }\n",
       "\n",
       "    .dataframe tbody tr th {\n",
       "        vertical-align: top;\n",
       "    }\n",
       "\n",
       "    .dataframe thead th {\n",
       "        text-align: right;\n",
       "    }\n",
       "</style>\n",
       "<table border=\"1\" class=\"dataframe\">\n",
       "  <thead>\n",
       "    <tr style=\"text-align: right;\">\n",
       "      <th></th>\n",
       "      <th>size0</th>\n",
       "      <th>size50</th>\n",
       "      <th>size100</th>\n",
       "      <th>size150</th>\n",
       "      <th>size200</th>\n",
       "      <th>size250</th>\n",
       "      <th>size300</th>\n",
       "      <th>size350</th>\n",
       "      <th>size400</th>\n",
       "      <th>size450</th>\n",
       "      <th>size500</th>\n",
       "      <th>size550</th>\n",
       "      <th>size600</th>\n",
       "      <th>size650</th>\n",
       "      <th>size700</th>\n",
       "      <th>size750</th>\n",
       "      <th>size800</th>\n",
       "      <th>Complexity</th>\n",
       "    </tr>\n",
       "  </thead>\n",
       "  <tbody>\n",
       "    <tr>\n",
       "      <th>Bubble Sort</th>\n",
       "      <td>3.099442e-06</td>\n",
       "      <td>0.000853</td>\n",
       "      <td>0.002894</td>\n",
       "      <td>0.006592</td>\n",
       "      <td>0.012898</td>\n",
       "      <td>0.018561</td>\n",
       "      <td>0.030280</td>\n",
       "      <td>0.059538</td>\n",
       "      <td>0.046191</td>\n",
       "      <td>0.058510</td>\n",
       "      <td>0.076700</td>\n",
       "      <td>0.089109</td>\n",
       "      <td>0.101452</td>\n",
       "      <td>0.131569</td>\n",
       "      <td>0.150443</td>\n",
       "      <td>0.169417</td>\n",
       "      <td>0.215157</td>\n",
       "      <td>O(n^2)</td>\n",
       "    </tr>\n",
       "    <tr>\n",
       "      <th>Merge Sort</th>\n",
       "      <td>9.536743e-07</td>\n",
       "      <td>0.000482</td>\n",
       "      <td>0.001107</td>\n",
       "      <td>0.002692</td>\n",
       "      <td>0.002240</td>\n",
       "      <td>0.002776</td>\n",
       "      <td>0.008483</td>\n",
       "      <td>0.004210</td>\n",
       "      <td>0.004541</td>\n",
       "      <td>0.005100</td>\n",
       "      <td>0.005726</td>\n",
       "      <td>0.006400</td>\n",
       "      <td>0.007281</td>\n",
       "      <td>0.009139</td>\n",
       "      <td>0.008415</td>\n",
       "      <td>0.009513</td>\n",
       "      <td>0.011854</td>\n",
       "      <td>O(nlog(n))</td>\n",
       "    </tr>\n",
       "    <tr>\n",
       "      <th>Sorted</th>\n",
       "      <td>3.993977e-06</td>\n",
       "      <td>0.000023</td>\n",
       "      <td>0.000053</td>\n",
       "      <td>0.000066</td>\n",
       "      <td>0.000088</td>\n",
       "      <td>0.000145</td>\n",
       "      <td>0.000187</td>\n",
       "      <td>0.000182</td>\n",
       "      <td>0.000155</td>\n",
       "      <td>0.000174</td>\n",
       "      <td>0.000225</td>\n",
       "      <td>0.000210</td>\n",
       "      <td>0.000230</td>\n",
       "      <td>0.000265</td>\n",
       "      <td>0.000280</td>\n",
       "      <td>0.000299</td>\n",
       "      <td>0.000368</td>\n",
       "      <td>O(nlog(n))</td>\n",
       "    </tr>\n",
       "  </tbody>\n",
       "</table>\n",
       "</div>"
      ],
      "text/plain": [
       "                    size0    size50   size100   size150   size200   size250  \\\n",
       "Bubble Sort  3.099442e-06  0.000853  0.002894  0.006592  0.012898  0.018561   \n",
       "Merge Sort   9.536743e-07  0.000482  0.001107  0.002692  0.002240  0.002776   \n",
       "Sorted       3.993977e-06  0.000023  0.000053  0.000066  0.000088  0.000145   \n",
       "\n",
       "              size300   size350   size400   size450   size500   size550  \\\n",
       "Bubble Sort  0.030280  0.059538  0.046191  0.058510  0.076700  0.089109   \n",
       "Merge Sort   0.008483  0.004210  0.004541  0.005100  0.005726  0.006400   \n",
       "Sorted       0.000187  0.000182  0.000155  0.000174  0.000225  0.000210   \n",
       "\n",
       "              size600   size650   size700   size750   size800  Complexity  \n",
       "Bubble Sort  0.101452  0.131569  0.150443  0.169417  0.215157      O(n^2)  \n",
       "Merge Sort   0.007281  0.009139  0.008415  0.009513  0.011854  O(nlog(n))  \n",
       "Sorted       0.000230  0.000265  0.000280  0.000299  0.000368  O(nlog(n))  "
      ]
     },
     "execution_count": 85,
     "metadata": {},
     "output_type": "execute_result"
    }
   ],
   "source": [
    "#Using summary table to show 17 running times on lists with sizes 0, 50, 100,150, 200, ..., 750, 800\n",
    "case2 = {\n",
    "     'Merge Sort': pd.Series(merge_time_key, index = ['size' + str(item) for item in size]),\n",
    "    'Bubble Sort': pd.Series(bubble_time_key, index = ['size' + str(item) for item in size]), \n",
    "     'Sorted': pd.Series(builtin_time_key, index = ['size' + str(item) for item in size])}\n",
    "Case2 = pd.DataFrame(case2).transpose()\n",
    "Case2['Complexity'] = pd.Series(['O(n^2)', 'O(nlog(n))', 'O(nlog(n))'], index = ['Bubble Sort', 'Merge Sort', 'Sorted'])\n",
    "Case2"
   ]
  },
  {
   "cell_type": "markdown",
   "metadata": {},
   "source": [
    "## Case3 : key = None, reverse = True"
   ]
  },
  {
   "cell_type": "code",
   "execution_count": 86,
   "metadata": {},
   "outputs": [
    {
     "name": "stdout",
     "output_type": "stream",
     "text": [
      "[4.291534423828125e-06, 0.0014290809631347656, 0.0013089179992675781, 0.0044100284576416016, 0.006157636642456055, 0.00952601432800293, 0.011929035186767578, 0.017154932022094727, 0.03723788261413574, 0.03370475769042969, 0.03568387031555176, 0.04126381874084473, 0.05339479446411133, 0.05866599082946777, 0.06839609146118164, 0.08107495307922363, 0.0929560661315918]\n",
      "[9.5367431640625e-07, 0.0005118846893310547, 0.0009520053863525391, 0.0013267993927001953, 0.00179290771484375, 0.0027599334716796875, 0.0030231475830078125, 0.0035610198974609375, 0.005427837371826172, 0.00451970100402832, 0.004645824432373047, 0.005255937576293945, 0.007482290267944336, 0.006186962127685547, 0.006926059722900391, 0.0071868896484375, 0.008042097091674805]\n",
      "[4.8370566219091415e-06, 1.3004988431930542e-05, 2.229493111371994e-05, 3.502704203128815e-05, 4.784204065799713e-05, 7.695984095335007e-05, 7.231999188661575e-05, 9.149988181889057e-05, 0.00011109793558716774, 0.00011847610585391521, 0.00012126890942454338, 0.00014925003051757812, 0.00014914199709892273, 0.0001628550235182047, 0.00017725094221532345, 0.0001893150620162487, 0.00020427186973392963]\n"
     ]
    }
   ],
   "source": [
    "#Generate running time information about three algorithms on lists with different sizes\n",
    "bubble_time_r = []\n",
    "merge_time_r = []\n",
    "builtin_time_r = []\n",
    "for l in data_set:\n",
    "    bubble_time_r.append(float(bubble_sort(l, reverse = True)[-1].split()[-1]))\n",
    "    merge_time_r.append(float(merge_sort(l, reverse = True)[-1].split()[-1]))\n",
    "    builtin_time_r.append(float(timeit.timeit(lambda:sorted(l, reverse = True),number=1)))\n",
    "print(bubble_time_r)\n",
    "print(merge_time_r)\n",
    "print(builtin_time_r)"
   ]
  },
  {
   "cell_type": "code",
   "execution_count": 87,
   "metadata": {},
   "outputs": [
    {
     "data": {
      "image/png": "[encoded data removed]",
      "text/plain": [
       "<matplotlib.figure.Figure at 0x11002f208>"
      ]
     },
     "metadata": {},
     "output_type": "display_data"
    }
   ],
   "source": [
    "#Using plot to show running time differences among three algorithms on lists with 17 different sizes from 0 to 800\n",
    "plt.plot(size, bubble_time_r, 'r', marker = 'o') \n",
    "plt.plot(size, merge_time_r, 'b', marker = 'o') \n",
    "plt.plot(size, builtin_time_r, 'g', marker = 'o')\n",
    "plt.legend(['Bubble Sort','Merge Sort', 'Builtin Sorted'])\n",
    "plt.title('Performance of Different Sort Functions with Different List Sizes (key = None, reverse = True)')\n",
    "plt.xlabel('List Size')\n",
    "plt.ylabel('Running time (sec)')\n",
    "plt.show()"
   ]
  },
  {
   "cell_type": "code",
   "execution_count": 88,
   "metadata": {},
   "outputs": [
    {
     "data": {
      "text/html": [
       "<div>\n",
       "<style scoped>\n",
       "    .dataframe tbody tr th:only-of-type {\n",
       "        vertical-align: middle;\n",
       "    }\n",
       "\n",
       "    .dataframe tbody tr th {\n",
       "        vertical-align: top;\n",
       "    }\n",
       "\n",
       "    .dataframe thead th {\n",
       "        text-align: right;\n",
       "    }\n",
       "</style>\n",
       "<table border=\"1\" class=\"dataframe\">\n",
       "  <thead>\n",
       "    <tr style=\"text-align: right;\">\n",
       "      <th></th>\n",
       "      <th>size0</th>\n",
       "      <th>size50</th>\n",
       "      <th>size100</th>\n",
       "      <th>size150</th>\n",
       "      <th>size200</th>\n",
       "      <th>size250</th>\n",
       "      <th>size300</th>\n",
       "      <th>size350</th>\n",
       "      <th>size400</th>\n",
       "      <th>size450</th>\n",
       "      <th>size500</th>\n",
       "      <th>size550</th>\n",
       "      <th>size600</th>\n",
       "      <th>size650</th>\n",
       "      <th>size700</th>\n",
       "      <th>size750</th>\n",
       "      <th>size800</th>\n",
       "      <th>Complexity</th>\n",
       "    </tr>\n",
       "  </thead>\n",
       "  <tbody>\n",
       "    <tr>\n",
       "      <th>Bubble Sort</th>\n",
       "      <td>4.291534e-06</td>\n",
       "      <td>0.001429</td>\n",
       "      <td>0.001309</td>\n",
       "      <td>0.004410</td>\n",
       "      <td>0.006158</td>\n",
       "      <td>0.009526</td>\n",
       "      <td>0.011929</td>\n",
       "      <td>0.017155</td>\n",
       "      <td>0.037238</td>\n",
       "      <td>0.033705</td>\n",
       "      <td>0.035684</td>\n",
       "      <td>0.041264</td>\n",
       "      <td>0.053395</td>\n",
       "      <td>0.058666</td>\n",
       "      <td>0.068396</td>\n",
       "      <td>0.081075</td>\n",
       "      <td>0.092956</td>\n",
       "      <td>O(n^2)</td>\n",
       "    </tr>\n",
       "    <tr>\n",
       "      <th>Merge Sort</th>\n",
       "      <td>9.536743e-07</td>\n",
       "      <td>0.000512</td>\n",
       "      <td>0.000952</td>\n",
       "      <td>0.001327</td>\n",
       "      <td>0.001793</td>\n",
       "      <td>0.002760</td>\n",
       "      <td>0.003023</td>\n",
       "      <td>0.003561</td>\n",
       "      <td>0.005428</td>\n",
       "      <td>0.004520</td>\n",
       "      <td>0.004646</td>\n",
       "      <td>0.005256</td>\n",
       "      <td>0.007482</td>\n",
       "      <td>0.006187</td>\n",
       "      <td>0.006926</td>\n",
       "      <td>0.007187</td>\n",
       "      <td>0.008042</td>\n",
       "      <td>O(nlog(n))</td>\n",
       "    </tr>\n",
       "    <tr>\n",
       "      <th>Sorted</th>\n",
       "      <td>4.837057e-06</td>\n",
       "      <td>0.000013</td>\n",
       "      <td>0.000022</td>\n",
       "      <td>0.000035</td>\n",
       "      <td>0.000048</td>\n",
       "      <td>0.000077</td>\n",
       "      <td>0.000072</td>\n",
       "      <td>0.000091</td>\n",
       "      <td>0.000111</td>\n",
       "      <td>0.000118</td>\n",
       "      <td>0.000121</td>\n",
       "      <td>0.000149</td>\n",
       "      <td>0.000149</td>\n",
       "      <td>0.000163</td>\n",
       "      <td>0.000177</td>\n",
       "      <td>0.000189</td>\n",
       "      <td>0.000204</td>\n",
       "      <td>O(nlog(n))</td>\n",
       "    </tr>\n",
       "  </tbody>\n",
       "</table>\n",
       "</div>"
      ],
      "text/plain": [
       "                    size0    size50   size100   size150   size200   size250  \\\n",
       "Bubble Sort  4.291534e-06  0.001429  0.001309  0.004410  0.006158  0.009526   \n",
       "Merge Sort   9.536743e-07  0.000512  0.000952  0.001327  0.001793  0.002760   \n",
       "Sorted       4.837057e-06  0.000013  0.000022  0.000035  0.000048  0.000077   \n",
       "\n",
       "              size300   size350   size400   size450   size500   size550  \\\n",
       "Bubble Sort  0.011929  0.017155  0.037238  0.033705  0.035684  0.041264   \n",
       "Merge Sort   0.003023  0.003561  0.005428  0.004520  0.004646  0.005256   \n",
       "Sorted       0.000072  0.000091  0.000111  0.000118  0.000121  0.000149   \n",
       "\n",
       "              size600   size650   size700   size750   size800  Complexity  \n",
       "Bubble Sort  0.053395  0.058666  0.068396  0.081075  0.092956      O(n^2)  \n",
       "Merge Sort   0.007482  0.006187  0.006926  0.007187  0.008042  O(nlog(n))  \n",
       "Sorted       0.000149  0.000163  0.000177  0.000189  0.000204  O(nlog(n))  "
      ]
     },
     "execution_count": 88,
     "metadata": {},
     "output_type": "execute_result"
    }
   ],
   "source": [
    "#Using summary table to show 17 running times on lists with sizes 0, 50, 100,150, 200, ..., 750, 800\n",
    "case3 = {\n",
    "     'Merge Sort': pd.Series(merge_time_r, index = ['size' + str(item) for item in size]),\n",
    "    'Bubble Sort': pd.Series(bubble_time_r, index = ['size' + str(item) for item in size]), \n",
    "     'Sorted': pd.Series(builtin_time_r, index = ['size' + str(item) for item in size])}\n",
    "Case3 = pd.DataFrame(case3).transpose()\n",
    "Case3['Complexity'] = pd.Series(['O(n^2)', 'O(nlog(n))', 'O(nlog(n))'], index = ['Bubble Sort', 'Merge Sort', 'Sorted'])\n",
    "Case3"
   ]
  },
  {
   "cell_type": "markdown",
   "metadata": {},
   "source": [
    "## Case4: key != None, reverse = True\n"
   ]
  },
  {
   "cell_type": "code",
   "execution_count": 89,
   "metadata": {},
   "outputs": [
    {
     "name": "stdout",
     "output_type": "stream",
     "text": [
      "[3.814697265625e-06, 0.0008161067962646484, 0.003201007843017578, 0.009131908416748047, 0.012415170669555664, 0.01861286163330078, 0.03445005416870117, 0.048995018005371094, 0.04642009735107422, 0.05922698974609375, 0.07754778861999512, 0.0888509750366211, 0.10976290702819824, 0.12825393676757812, 0.15365290641784668, 0.16660094261169434, 0.18881487846374512]\n",
      "[9.5367431640625e-07, 0.0004837512969970703, 0.002076864242553711, 0.0015859603881835938, 0.0024819374084472656, 0.003774881362915039, 0.0065419673919677734, 0.004173994064331055, 0.004498958587646484, 0.005114078521728516, 0.005928993225097656, 0.0068149566650390625, 0.0073511600494384766, 0.008161067962646484, 0.009094715118408203, 0.009081125259399414, 0.009815216064453125]\n",
      "[4.290137439966202e-06, 2.246210351586342e-05, 6.748293526470661e-05, 6.159394979476929e-05, 7.998105138540268e-05, 0.0001067151315510273, 0.00019836798310279846, 0.00017302692867815495, 0.0001549490261822939, 0.0001752949319779873, 0.0001967360731214285, 0.00021666311658918858, 0.0002361140213906765, 0.0002669519744813442, 0.0002817460335791111, 0.00030090310610830784, 0.0003226730041205883]\n"
     ]
    }
   ],
   "source": [
    "#Generate running time information about three algorithms on lists with different sizes\n",
    "bubble_time_r_k = []\n",
    "merge_time_r_k = []\n",
    "builtin_time_r_k = []\n",
    "for l in data_set:\n",
    "    bubble_time_r_k.append(float(bubble_sort(l, key = str.lower, reverse = True)[-1].split()[-1]))\n",
    "    merge_time_r_k.append(float(merge_sort(l, key = str.lower, reverse = True)[-1].split()[-1]))\n",
    "    builtin_time_r_k.append(float(timeit.timeit(lambda:sorted(l, key = str.lower, reverse = True),number=1)))\n",
    "print(bubble_time_r_k)\n",
    "print(merge_time_r_k)\n",
    "print(builtin_time_r_k)"
   ]
  },
  {
   "cell_type": "code",
   "execution_count": 90,
   "metadata": {},
   "outputs": [
    {
     "data": {
      "image/png": "[encoded data removed]",
      "text/plain": [
       "<matplotlib.figure.Figure at 0x10fcb7390>"
      ]
     },
     "metadata": {},
     "output_type": "display_data"
    }
   ],
   "source": [
    "#Using plot to show running time differences among three algorithms on lists with 17 different sizes from 0 to 800\n",
    "plt.plot(size, bubble_time_r_k, 'r', marker = 'o') \n",
    "plt.plot(size, merge_time_r_k, 'b', marker = 'o') \n",
    "plt.plot(size, builtin_time_r_k, 'g', marker = 'o')\n",
    "plt.legend(['Bubble Sort','Merge Sort', 'Builtin Sorted'])\n",
    "plt.title('Performance of Different Sort Functions with Different List Sizes (key = str.lower, reverse = True)')\n",
    "plt.xlabel('List Size')\n",
    "plt.ylabel('Running time (sec)')\n",
    "plt.show()"
   ]
  },
  {
   "cell_type": "code",
   "execution_count": 91,
   "metadata": {
    "scrolled": true
   },
   "outputs": [
    {
     "data": {
      "text/html": [
       "<div>\n",
       "<style scoped>\n",
       "    .dataframe tbody tr th:only-of-type {\n",
       "        vertical-align: middle;\n",
       "    }\n",
       "\n",
       "    .dataframe tbody tr th {\n",
       "        vertical-align: top;\n",
       "    }\n",
       "\n",
       "    .dataframe thead th {\n",
       "        text-align: right;\n",
       "    }\n",
       "</style>\n",
       "<table border=\"1\" class=\"dataframe\">\n",
       "  <thead>\n",
       "    <tr style=\"text-align: right;\">\n",
       "      <th></th>\n",
       "      <th>size0</th>\n",
       "      <th>size50</th>\n",
       "      <th>size100</th>\n",
       "      <th>size150</th>\n",
       "      <th>size200</th>\n",
       "      <th>size250</th>\n",
       "      <th>size300</th>\n",
       "      <th>size350</th>\n",
       "      <th>size400</th>\n",
       "      <th>size450</th>\n",
       "      <th>size500</th>\n",
       "      <th>size550</th>\n",
       "      <th>size600</th>\n",
       "      <th>size650</th>\n",
       "      <th>size700</th>\n",
       "      <th>size750</th>\n",
       "      <th>size800</th>\n",
       "      <th>Complexity</th>\n",
       "    </tr>\n",
       "  </thead>\n",
       "  <tbody>\n",
       "    <tr>\n",
       "      <th>Bubble Sort</th>\n",
       "      <td>3.814697e-06</td>\n",
       "      <td>0.000816</td>\n",
       "      <td>0.003201</td>\n",
       "      <td>0.009132</td>\n",
       "      <td>0.012415</td>\n",
       "      <td>0.018613</td>\n",
       "      <td>0.034450</td>\n",
       "      <td>0.048995</td>\n",
       "      <td>0.046420</td>\n",
       "      <td>0.059227</td>\n",
       "      <td>0.077548</td>\n",
       "      <td>0.088851</td>\n",
       "      <td>0.109763</td>\n",
       "      <td>0.128254</td>\n",
       "      <td>0.153653</td>\n",
       "      <td>0.166601</td>\n",
       "      <td>0.188815</td>\n",
       "      <td>O(n^2)</td>\n",
       "    </tr>\n",
       "    <tr>\n",
       "      <th>Merge Sort</th>\n",
       "      <td>9.536743e-07</td>\n",
       "      <td>0.000484</td>\n",
       "      <td>0.002077</td>\n",
       "      <td>0.001586</td>\n",
       "      <td>0.002482</td>\n",
       "      <td>0.003775</td>\n",
       "      <td>0.006542</td>\n",
       "      <td>0.004174</td>\n",
       "      <td>0.004499</td>\n",
       "      <td>0.005114</td>\n",
       "      <td>0.005929</td>\n",
       "      <td>0.006815</td>\n",
       "      <td>0.007351</td>\n",
       "      <td>0.008161</td>\n",
       "      <td>0.009095</td>\n",
       "      <td>0.009081</td>\n",
       "      <td>0.009815</td>\n",
       "      <td>O(nlog(n))</td>\n",
       "    </tr>\n",
       "    <tr>\n",
       "      <th>Sorted</th>\n",
       "      <td>4.290137e-06</td>\n",
       "      <td>0.000022</td>\n",
       "      <td>0.000067</td>\n",
       "      <td>0.000062</td>\n",
       "      <td>0.000080</td>\n",
       "      <td>0.000107</td>\n",
       "      <td>0.000198</td>\n",
       "      <td>0.000173</td>\n",
       "      <td>0.000155</td>\n",
       "      <td>0.000175</td>\n",
       "      <td>0.000197</td>\n",
       "      <td>0.000217</td>\n",
       "      <td>0.000236</td>\n",
       "      <td>0.000267</td>\n",
       "      <td>0.000282</td>\n",
       "      <td>0.000301</td>\n",
       "      <td>0.000323</td>\n",
       "      <td>O(nlog(n))</td>\n",
       "    </tr>\n",
       "  </tbody>\n",
       "</table>\n",
       "</div>"
      ],
      "text/plain": [
       "                    size0    size50   size100   size150   size200   size250  \\\n",
       "Bubble Sort  3.814697e-06  0.000816  0.003201  0.009132  0.012415  0.018613   \n",
       "Merge Sort   9.536743e-07  0.000484  0.002077  0.001586  0.002482  0.003775   \n",
       "Sorted       4.290137e-06  0.000022  0.000067  0.000062  0.000080  0.000107   \n",
       "\n",
       "              size300   size350   size400   size450   size500   size550  \\\n",
       "Bubble Sort  0.034450  0.048995  0.046420  0.059227  0.077548  0.088851   \n",
       "Merge Sort   0.006542  0.004174  0.004499  0.005114  0.005929  0.006815   \n",
       "Sorted       0.000198  0.000173  0.000155  0.000175  0.000197  0.000217   \n",
       "\n",
       "              size600   size650   size700   size750   size800  Complexity  \n",
       "Bubble Sort  0.109763  0.128254  0.153653  0.166601  0.188815      O(n^2)  \n",
       "Merge Sort   0.007351  0.008161  0.009095  0.009081  0.009815  O(nlog(n))  \n",
       "Sorted       0.000236  0.000267  0.000282  0.000301  0.000323  O(nlog(n))  "
      ]
     },
     "execution_count": 91,
     "metadata": {},
     "output_type": "execute_result"
    }
   ],
   "source": [
    "#Using summary table to show 17 running time on lists with sizes 0, 50, 100,150, 200, ..., 750, 800\n",
    "case4 = {\n",
    "     'Merge Sort': pd.Series(merge_time_r_k, index = ['size' + str(item) for item in size]),\n",
    "    'Bubble Sort': pd.Series(bubble_time_r_k, index = ['size' + str(item) for item in size]), \n",
    "     'Sorted': pd.Series(builtin_time_r_k, index = ['size' + str(item) for item in size])}\n",
    "Case4 = pd.DataFrame(case4).transpose()\n",
    "Case4['Complexity'] = pd.Series(['O(n^2)', 'O(nlog(n))', 'O(nlog(n))'], index = ['Bubble Sort', 'Merge Sort', 'Sorted'])\n",
    "Case4"
   ]
  },
  {
   "cell_type": "markdown",
   "metadata": {},
   "source": [
    "From the above plots and summary tables, I have the following findings:\n",
    "#1. When dataset size = 0 (i.e. emptey), in all four cases, merge_sort had the shortest running time among three functions.\n",
    "#2. Generally, when the dataset size is large(say larger than 100), the running time of three sorted functions have the following relationship: RunTime(built-in Sorted) < RunTime(Merge_Sort) < RunTime(Bubble_Sort). When dataset is small, as we found in my merge_sort v.s. bubble_sort examples, merge sort may perform slower than bubble_sort. (See case 1 in this example, when dataset size is 50, RunTime(bubble) < RunTime(merge). But when dataset size = 100, merge_sort ran faster.)\n",
    "#3. We know that complexity of bubble sort is O(n^2), merge_sort is O(nlog(n)), sorted(TimSort) is O(nlog(n)). From the plots we made, we can see such patterns too.\n",
    "#4. There are some fluctuations in the graph, I think it may be due to the higher complexity of string operations which may cause longer running time. But the overall patterns are clear to see."
   ]
  },
  {
   "cell_type": "markdown",
   "metadata": {},
   "source": [
    "## A clearer example\n",
    "#### in the following example, I randomly generated lists of integers in the range [0, 10000] with list sizes (0, 100, 200, ..., 2800, 2900)\n",
    "The running time of three sorted functions still follow the same pattern as the above string example. But the plotted lines are much smoother. So I put this simple example here to clarify the relationship."
   ]
  },
  {
   "cell_type": "code",
   "execution_count": 92,
   "metadata": {},
   "outputs": [
    {
     "data": {
      "image/png": "[encoded data removed]",
      "text/plain": [
       "<matplotlib.figure.Figure at 0x10fc54c50>"
      ]
     },
     "metadata": {},
     "output_type": "display_data"
    }
   ],
   "source": [
    "#generate a list of sizes from 0 to 2900 with interval = 100\n",
    "s = [100 * i  for i in range(30)]\n",
    "#for each list size, generate a list of integers in the range of 0 to 10000\n",
    "d = []\n",
    "for size in s:\n",
    "    d.append([random.randint(0, 10000) for i in range(size)])\n",
    "#sort the generated lists using all three functions and record the running time separately\n",
    "simple_bubble = [float(bubble_sort(l)[-1].split()[-1]) for l in d] \n",
    "simple_merge = [float(merge_sort(l)[-1].split()[-1]) for l in d] \n",
    "simple_sorted = [float(timeit.timeit(lambda:sorted(l), number=1)) for l in d]\n",
    "#plot the graph (smooth lines here :) )\n",
    "plt.plot(s, simple_bubble, 'r', marker = 'o') \n",
    "plt.plot(s, simple_merge, 'b', marker = 'o') \n",
    "plt.plot(s, simple_sorted, 'g', marker = 'o')\n",
    "plt.legend(['Bubble Sort','Merge Sort', 'Builtin Sorted'])\n",
    "plt.title('Performance of Different Sort Functions with Different List Sizes')\n",
    "plt.xlabel('List Size')\n",
    "plt.ylabel('Running time (sec)')\n",
    "plt.show()"
   ]
  },
  {
   "cell_type": "code",
   "execution_count": null,
   "metadata": {
    "collapsed": true
   },
   "outputs": [],
   "source": []
  }
 ],
 "metadata": {
  "kernelspec": {
   "display_name": "Python 3",
   "language": "python",
   "name": "python3"
  },
  "language_info": {
   "codemirror_mode": {
    "name": "ipython",
    "version": 3
   },
   "file_extension": ".py",
   "mimetype": "text/x-python",
   "name": "python",
   "nbconvert_exporter": "python",
   "pygments_lexer": "ipython3",
   "version": "3.6.1"
  }
 },
 "nbformat": 4,
 "nbformat_minor": 2
}
