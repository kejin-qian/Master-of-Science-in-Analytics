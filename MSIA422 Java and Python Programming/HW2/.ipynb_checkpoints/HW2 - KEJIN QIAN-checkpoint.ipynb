{
 "cells": [
  {
   "cell_type": "code",
   "execution_count": 29,
   "metadata": {
    "collapsed": true
   },
   "outputs": [],
   "source": [
    "import time"
   ]
  },
  {
   "cell_type": "code",
   "execution_count": 161,
   "metadata": {
    "collapsed": true
   },
   "outputs": [],
   "source": [
    "def key_helper(iterable, key):\n",
    "    if key is not None:\n",
    "        return [key(item) for item in iterable]\n",
    "    else:\n",
    "        return list(iterable)"
   ]
  },
  {
   "cell_type": "code",
   "execution_count": 208,
   "metadata": {},
   "outputs": [],
   "source": [
    "#bubble sort\n",
    "def bubble_sort(iterable, key = None, reverse = False):\n",
    "    start = time.time()\n",
    "    nComp = 0\n",
    "    nSwap = 0\n",
    "    iterable_list = list(iterable)\n",
    "    key_iterable = key_helper(iterable_list, key)\n",
    "    for pass_num in range(len(iterable_list) - 1, 0, -1):\n",
    "        for i in range(pass_num):\n",
    "            nComp += 1\n",
    "            if reverse is False:\n",
    "                if key_iterable[i] > key_iterable[i + 1]:    \n",
    "                    key_iterable[i], key_iterable[i + 1] = key_iterable[i + 1], key_iterable[i]\n",
    "                    iterable_list[i],iterable_list[i + 1] = iterable_list[i + 1] ,iterable_list[i]\n",
    "                    nSwap += 1\n",
    "            else:\n",
    "                if key_iterable[i] < key_iterable[i + 1]:    \n",
    "                    key_iterable[i], key_iterable[i + 1] = key_iterable[i + 1], key_iterable[i]\n",
    "                    iterable_list[i],iterable_list[i + 1] = iterable_list[i + 1] ,iterable_list[i]\n",
    "                    nSwap += 1\n",
    "    tMeasure = time.time() - start\n",
    "    return (iterable_list, \"Number of Comparison: \"+ str(nComp), \"Number of Swap: \"+ str(nSwap),\n",
    "            \"Timer Measure(in seconds): \" + str(tMeasure))\n"
   ]
  },
  {
   "cell_type": "code",
   "execution_count": 243,
   "metadata": {
    "collapsed": true
   },
   "outputs": [],
   "source": [
    "def bubble_sort(iterable, key = None, reverse = False):\n",
    "    start = time.time()\n",
    "    nComp = 0\n",
    "    nSwap = 0\n",
    "    iterable_list = list(iterable)\n",
    "    if key is None:\n",
    "        if reverse is False:    \n",
    "            for pass_num in range(len(iterable_list) - 1, 0, -1):\n",
    "                for i in range(pass_num):\n",
    "                    nComp += 1\n",
    "                    if iterable_list[i] > iterable_list[i + 1]:    \n",
    "                        iterable_list[i], iterable_list[i + 1] = iterable_list[i + 1], iterable_list[i]\n",
    "                        nSwap += 1\n",
    "            tMeasure = time.time() - start\n",
    "                \n",
    "        else:\n",
    "            for pass_num in range(len(iterable_list) - 1, 0, -1):\n",
    "                for i in range(pass_num):\n",
    "                    nComp += 1\n",
    "                    if iterable_list[i] < iterable_list[i + 1]:\n",
    "                        iterable_list[i],iterable_list[i + 1] = iterable_list[i + 1] ,iterable_list[i]\n",
    "                        nSwap += 1\n",
    "            tMeasure = time.time() - start\n",
    "    else:\n",
    "        if reverse is False:\n",
    "            for pass_num in range(len(iterable_list) - 1, 0, -1):\n",
    "                for i in range(pass_num):\n",
    "                    nComp += 1\n",
    "                    if key(iterable_list[i]) > key(iterable_list[i + 1]):    \n",
    "                        iterable_list[i], iterable_list[i + 1] = iterable_list[i + 1], iterable_list[i]\n",
    "                        nSwap += 1\n",
    "            tMeasure = time.time() - start\n",
    "        else:\n",
    "            for pass_num in range(len(iterable_list) - 1, 0, -1):\n",
    "                for i in range(pass_num):\n",
    "                    nComp += 1\n",
    "                    if key(iterable_list[i]) < key(iterable_list[i + 1]):    \n",
    "                        iterable_list[i], iterable_list[i + 1] = iterable_list[i + 1], iterable_list[i]\n",
    "                        nSwap += 1\n",
    "            tMeasure = time.time() - start\n",
    "    return (iterable_list, \"Number of Comparison: \"+ str(nComp), \"Number of Swap: \"+ str(nSwap),\n",
    "            \"Timer Measure(in seconds): \" + str(tMeasure))\n"
   ]
  },
  {
   "cell_type": "code",
   "execution_count": 254,
   "metadata": {},
   "outputs": [
    {
     "data": {
      "text/plain": [
       "(['dave', 'john', 'jane'],\n",
       " 'Number of Comparison: 3',\n",
       " 'Number of Swap: 2',\n",
       " 'Timer Measure(in seconds): 8.821487426757812e-06')"
      ]
     },
     "execution_count": 254,
     "metadata": {},
     "output_type": "execute_result"
    }
   ],
   "source": [
    "student_dic = {\n",
    "    'john': 'C',\n",
    "    'jane': 'B',\n",
    "    'dave': 'D'}\n",
    "bubble_sort(student_dic,key=lambda name: student_dic[name], reverse = True)"
   ]
  },
  {
   "cell_type": "code",
   "execution_count": 197,
   "metadata": {
    "collapsed": true
   },
   "outputs": [],
   "source": [
    "a = []\n",
    "b = [3,1,2]\n",
    "c = ['a','b','c']\n",
    "d = (5,2,6)\n",
    "e = set([5,2,7,4,6,8,2])"
   ]
  },
  {
   "cell_type": "code",
   "execution_count": 211,
   "metadata": {},
   "outputs": [
    {
     "data": {
      "text/plain": [
       "([],\n",
       " 'Number of Comparison: 0',\n",
       " 'Number of Swap: 0',\n",
       " 'Timer Measure(in seconds): 3.814697265625e-06')"
      ]
     },
     "execution_count": 211,
     "metadata": {},
     "output_type": "execute_result"
    }
   ],
   "source": [
    "bubble_sort(a)"
   ]
  },
  {
   "cell_type": "code",
   "execution_count": 213,
   "metadata": {},
   "outputs": [
    {
     "data": {
      "text/plain": [
       "([1, 2, 3],\n",
       " 'Number of Comparison: 3',\n",
       " 'Number of Swap: 2',\n",
       " 'Timer Measure(in seconds): 7.867813110351562e-06')"
      ]
     },
     "execution_count": 213,
     "metadata": {},
     "output_type": "execute_result"
    }
   ],
   "source": [
    "bubble_sort(b)"
   ]
  },
  {
   "cell_type": "code",
   "execution_count": 207,
   "metadata": {},
   "outputs": [
    {
     "name": "stdout",
     "output_type": "stream",
     "text": [
      "(['c', 'b', 'a'], 'Number of Comparison: 3', 'Number of Swap: 3', 'Timer Measure(in seconds): 1.0013580322265625e-05')\n",
      "['c', 'b', 'a']\n"
     ]
    }
   ],
   "source": [
    "print(bubble_sort(c, key=str.upper, reverse = True))\n",
    "print(sorted(c, key = str.upper, reverse = True))"
   ]
  },
  {
   "cell_type": "code",
   "execution_count": 204,
   "metadata": {},
   "outputs": [
    {
     "name": "stdout",
     "output_type": "stream",
     "text": [
      "([6, 5, 2], 'Number of Comparison: 3', 'Number of Swap: 2', 'Timer Measure(in seconds): 7.867813110351562e-06')\n",
      "[6, 5, 2]\n"
     ]
    }
   ],
   "source": [
    "print(bubble_sort(d, reverse = True))\n",
    "print(sorted(d, reverse = True))"
   ]
  },
  {
   "cell_type": "code",
   "execution_count": 205,
   "metadata": {},
   "outputs": [
    {
     "name": "stdout",
     "output_type": "stream",
     "text": [
      "([2, 4, 5, 6, 7, 8], 'Number of Comparison: 15', 'Number of Swap: 0', 'Timer Measure(in seconds): 1.0013580322265625e-05')\n",
      "[2, 4, 5, 6, 7, 8]\n"
     ]
    }
   ],
   "source": [
    "print(bubble_sort(e))\n",
    "print(sorted(e))"
   ]
  },
  {
   "cell_type": "code",
   "execution_count": 76,
   "metadata": {},
   "outputs": [
    {
     "name": "stdout",
     "output_type": "stream",
     "text": [
      "([['guigui', 172], ['jiji', 170]], 'Number of Comparison: 1', 'Number of Swap: 1', 'Timer Measure(in seconds): 1.0013580322265625e-05')\n",
      "[['guigui', 172], ['jiji', 170]]\n"
     ]
    }
   ],
   "source": [
    "l = [['jiji', 170], ['guigui', 172]]\n",
    "def f(x):\n",
    "    n = list(x)\n",
    "    n.append('hi')\n",
    "    n.reverse()\n",
    "    return n\n",
    "print(bubble_sort(l, key = lambda x: f(x)[-1]))\n",
    "print(sorted(l, key = lambda x: f(x)[-1]))"
   ]
  },
  {
   "cell_type": "code",
   "execution_count": 82,
   "metadata": {},
   "outputs": [
    {
     "data": {
      "text/plain": [
       "[['jiji', 170], ['guigui', 172]]"
      ]
     },
     "execution_count": 82,
     "metadata": {},
     "output_type": "execute_result"
    }
   ],
   "source": [
    "l"
   ]
  },
  {
   "cell_type": "code",
   "execution_count": 45,
   "metadata": {
    "collapsed": true
   },
   "outputs": [],
   "source": [
    "class Student:\n",
    "    def __init__(self, name, sid):\n",
    "        self.name = name\n",
    "        self.sid = sid\n",
    "        \n",
    "    def get_name(self):\n",
    "        return self.name\n",
    "    \n",
    "    def say(self, something):\n",
    "        print(self.name + \": \" + something)"
   ]
  },
  {
   "cell_type": "code",
   "execution_count": 255,
   "metadata": {},
   "outputs": [
    {
     "name": "stdout",
     "output_type": "stream",
     "text": [
      "[('jane', 'B', 12), ('dave', 'B', 10), ('john', 'C', 15)]\n",
      "([('jane', 'B', 12), ('dave', 'B', 10), ('john', 'C', 15)], 'Number of Comparison: 3', 'Number of Swap: 2', 'Timer Measure(in seconds): 6.9141387939453125e-06')\n"
     ]
    }
   ],
   "source": [
    "student_tuples = [\n",
    "        ('john', 'C', 15),\n",
    "        ('jane', 'B', 12),\n",
    "        ('dave', 'B', 10),\n",
    "]\n",
    "print(sorted(student_tuples, key=lambda student: student[1]))  # sort by age\n",
    "print(bubble_sort(student_tuples, key=lambda student: student[1]))"
   ]
  },
  {
   "cell_type": "code",
   "execution_count": 81,
   "metadata": {},
   "outputs": [
    {
     "name": "stdout",
     "output_type": "stream",
     "text": [
      "[3, 2, 1]\n"
     ]
    }
   ],
   "source": [
    "dic = {}\n",
    "dic[1] = ['hi', 1]\n",
    "dic[2] = ['b', 2]\n",
    "dic[3] = ['c', 3]\n",
    "print(sorted(dic,key=lambda x: dic[x][1], reverse = True))"
   ]
  },
  {
   "cell_type": "code",
   "execution_count": 215,
   "metadata": {
    "collapsed": true
   },
   "outputs": [],
   "source": [
    "def merge_helper(a_list, reverse=False):\n",
    "    if len(a_list) > 1:\n",
    "        mid = len(a_list) // 2\n",
    "        left_half = a_list[:mid]\n",
    "        right_half = a_list[mid:]\n",
    "        merge_helper(left_half)\n",
    "        merge_helper(right_half)\n",
    "        i = 0\n",
    "        j = 0\n",
    "        k = 0\n",
    "        while i < len(left_half) and j < len(right_half):\n",
    "            if reverse:\n",
    "                if left_half[i] > right_half[j]:\n",
    "                    a_list[k] = left_half[i]\n",
    "                    i = i + 1\n",
    "                else:\n",
    "                    a_list[k] = right_half[j]\n",
    "                    j = j + 1          \n",
    "            else:\n",
    "                if left_half[i] < right_half[j]:\n",
    "                    a_list[k] = left_half[i]\n",
    "                    i = i + 1\n",
    "                else:\n",
    "                    a_list[k] = right_half[j]\n",
    "                    j = j + 1\n",
    "            k = k + 1\n",
    "        while i < len(left_half):\n",
    "            a_list[k] = left_half[i]\n",
    "            i = i + 1\n",
    "            k = k + 1\n",
    "\n",
    "        while j < len(right_half):\n",
    "            a_list[k] = right_half[j]\n",
    "            j = j + 1\n",
    "            k = k + 1"
   ]
  },
  {
   "cell_type": "code",
   "execution_count": 268,
   "metadata": {
    "collapsed": true
   },
   "outputs": [],
   "source": [
    "def merge_sort1(iterable, key = None, reverse = False):\n",
    "    start = time.time()\n",
    "    nComp = 0\n",
    "    a_list = list(iterable)\n",
    "    key_list = key_helper(a_list, key)\n",
    "    if len(key_list) > 1:\n",
    "        mid = len(key_list) // 2\n",
    "        key_left_half = key_list[:mid]\n",
    "        key_right_half =key_list[mid:]\n",
    "        merge_helper(key_left_half)\n",
    "        merge_helper(key_right_half)\n",
    "        iter_left_half = merge_sort(a_list[:mid], key, reverse)[0]\n",
    "        iter_right_half = merge_sort(a_list[mid:], key, reverse)[0]\n",
    "        \n",
    "        i = 0\n",
    "        j = 0\n",
    "        k = 0\n",
    "        \n",
    "        while i < len(key_left_half) and j < len(key_right_half):\n",
    "            nComp += 1\n",
    "            if reverse:        \n",
    "                if key_left_half[i] > key_right_half[j]:\n",
    "                    a_list[k] = iter_left_half[i]\n",
    "                    i = i + 1\n",
    "                else:\n",
    "                    a_list[k] = iter_right_half[j]\n",
    "                    j = j + 1\n",
    "            else:\n",
    "                if key_left_half[i] <  key_right_half[j]:\n",
    "                    a_list[k] = iter_left_half[i]\n",
    "                    i = i + 1\n",
    "                else:\n",
    "                    a_list[k] = iter_right_half[j]\n",
    "                    j = j + 1\n",
    "            k = k + 1\n",
    "\n",
    "        while i < len(key_left_half):\n",
    "            a_list[k] = iter_left_half[i]\n",
    "            i = i + 1\n",
    "            k = k + 1\n",
    "\n",
    "        while j < len(key_right_half):\n",
    "            a_list[k] = iter_right_half[j]\n",
    "            j = j + 1\n",
    "            k = k + 1\n",
    "    tMeasure = time.time() - start\n",
    "    return (a_list, \"Number of Comparison: \"+ str(nComp), \"Timer Measure(in seconds): \" + str(tMeasure))"
   ]
  },
  {
   "cell_type": "code",
   "execution_count": 279,
   "metadata": {},
   "outputs": [
    {
     "data": {
      "text/plain": [
       "([17, 20, 26, 31, 44, 54, 55, 77, 93],\n",
       " 'Number of Comparison: 8',\n",
       " 'Timer Measure(in seconds): 0.00024390220642089844')"
      ]
     },
     "execution_count": 279,
     "metadata": {},
     "output_type": "execute_result"
    }
   ],
   "source": [
    "a_list = [54, 26, 93, 17, 77, 31, 44, 55, 20]\n",
    "merge_sort1(a_list)"
   ]
  },
  {
   "cell_type": "code",
   "execution_count": 232,
   "metadata": {},
   "outputs": [
    {
     "data": {
      "text/plain": [
       "([['guigui', 172], ['jiji', 170]],\n",
       " 'Number of Comparison: 1',\n",
       " 'Timer Measure(in seconds): 4.506111145019531e-05')"
      ]
     },
     "execution_count": 232,
     "metadata": {},
     "output_type": "execute_result"
    }
   ],
   "source": [
    "l = [['jiji', 170], ['guigui', 172]]\n",
    "merge_sort(l, key = lambda x: x[1], reverse = True)"
   ]
  },
  {
   "cell_type": "code",
   "execution_count": 265,
   "metadata": {},
   "outputs": [],
   "source": [
    "def merge_sort(iterable, key=None, reverse = False):\n",
    "    start = time.time()\n",
    "    nComp = 0\n",
    "    a_list = list(iterable)\n",
    "    if len(a_list) > 1:\n",
    "        mid = len(a_list) // 2\n",
    "        iter_left_half = merge_sort(a_list[:mid], key, reverse)[0]\n",
    "        iter_right_half = merge_sort(a_list[mid:], key, reverse)[0]\n",
    "        \n",
    "        i = 0\n",
    "        j = 0\n",
    "        k = 0\n",
    "        \n",
    "        while i < len(iter_left_half) and j < len(iter_right_half):\n",
    "            nComp += 1\n",
    "            if key is not None:\n",
    "                if reverse is True:        \n",
    "                    if key(iter_left_half[i]) > key(iter_right_half[j]):\n",
    "                        a_list[k] = iter_left_half[i]\n",
    "                        i = i + 1\n",
    "                    else:\n",
    "                        a_list[k] = iter_right_half[j]\n",
    "                        j = j + 1\n",
    "                else:\n",
    "                    if key(iter_left_half[i]) <  key(iter_right_half[j]):\n",
    "                        a_list[k] = iter_left_half[i]\n",
    "                        i = i + 1\n",
    "                    else:\n",
    "                        a_list[k] = iter_right_half[j]\n",
    "                        j = j + 1\n",
    "            else:\n",
    "                if reverse is True:        \n",
    "                    if iter_left_half[i] > iter_right_half[j]:\n",
    "                        a_list[k] = iter_left_half[i]\n",
    "                        i = i + 1\n",
    "                    else:\n",
    "                        a_list[k] = iter_right_half[j]\n",
    "                        j = j + 1\n",
    "                else:\n",
    "                    if iter_left_half[i] < iter_right_half[j]:\n",
    "                        a_list[k] = iter_left_half[i]\n",
    "                        i = i + 1\n",
    "                    else:\n",
    "                        a_list[k] = iter_right_half[j]\n",
    "                        j = j + 1\n",
    "            k = k + 1\n",
    "\n",
    "        while i < len(iter_left_half):\n",
    "            a_list[k] = iter_left_half[i]\n",
    "            i = i + 1\n",
    "            k = k + 1\n",
    "\n",
    "        while j < len(iter_right_half):\n",
    "            a_list[k] = iter_right_half[j]\n",
    "            j = j + 1\n",
    "            k = k + 1\n",
    "    tMeasure = time.time() - start\n",
    "    return (a_list, \"Number of Comparison: \"+ str(nComp), \"Timer Measure(in seconds): {}\".format(tMeasure))"
   ]
  },
  {
   "cell_type": "code",
   "execution_count": null,
   "metadata": {
    "collapsed": true
   },
   "outputs": [],
   "source": []
  }
 ],
 "metadata": {
  "kernelspec": {
   "display_name": "Python 3",
   "language": "python",
   "name": "python3"
  },
  "language_info": {
   "codemirror_mode": {
    "name": "ipython",
    "version": 3
   },
   "file_extension": ".py",
   "mimetype": "text/x-python",
   "name": "python",
   "nbconvert_exporter": "python",
   "pygments_lexer": "ipython3",
   "version": "3.6.1"
  }
 },
 "nbformat": 4,
 "nbformat_minor": 2
}
